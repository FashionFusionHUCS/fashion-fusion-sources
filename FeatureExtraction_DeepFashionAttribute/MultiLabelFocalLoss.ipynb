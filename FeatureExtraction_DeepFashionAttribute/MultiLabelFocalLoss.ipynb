{
 "cells": [
  {
   "cell_type": "code",
   "execution_count": 1,
   "metadata": {},
   "outputs": [
    {
     "name": "stderr",
     "output_type": "stream",
     "text": [
      "c:\\Users\\hecan\\AppData\\Local\\Programs\\Python\\Python311\\Lib\\site-packages\\tqdm\\auto.py:21: TqdmWarning: IProgress not found. Please update jupyter and ipywidgets. See https://ipywidgets.readthedocs.io/en/stable/user_install.html\n",
      "  from .autonotebook import tqdm as notebook_tqdm\n"
     ]
    }
   ],
   "source": [
    "# Necessary imports\n",
    "from tabulate import tabulate\n",
    "import torch\n",
    "import torch.nn as nn\n",
    "from torch.utils.data import DataLoader, Dataset\n",
    "import timm\n",
    "import torchvision.transforms as transforms\n",
    "import pandas as pd\n",
    "from PIL import Image\n",
    "import numpy as np\n",
    "from sklearn.metrics import classification_report\n",
    "from tqdm import tqdm\n",
    "from matplotlib import pyplot as plt\n",
    "import torch.nn.functional as F\n",
    "device = torch.device('cuda' if torch.cuda.is_available() else 'cpu')"
   ]
  },
  {
   "cell_type": "code",
   "execution_count": 2,
   "metadata": {},
   "outputs": [],
   "source": [
    "# Constants\n",
    "# Normalize yok\n",
    "# Augmentation var\n",
    "BATCH_SIZE = 16\n",
    "LR_RATE = 0.001\n",
    "MODEL_NAME = 'vit_small_patch32_224.augreg_in21k_ft_in1k'\n",
    "THRESHOLD = 0\n",
    "NUM_LABELS = 20 #########"
   ]
  },
  {
   "cell_type": "code",
   "execution_count": 4,
   "metadata": {},
   "outputs": [],
   "source": [
    "# Model\n",
    "class SiameseModel(nn.Module):\n",
    "    def __init__(self, timm_model_name):\n",
    "        super(SiameseModel, self).__init__()\n",
    "        model = timm.create_model(timm_model_name, pretrained=True)\n",
    "        self.cnn_model = timm.create_model(timm_model_name, pretrained=True)\n",
    "\n",
    "        for param in self.cnn_model.parameters(): # Freeze all the layers of the backbone\n",
    "            param.requires_grad = False\n",
    "\n",
    "        self.num_features = self.cnn_model.num_features  # Extract number of features from the model\n",
    "        self.cnn_model.reset_classifier(num_classes=0)  # Remove the final classifier layer\n",
    "        \n",
    "        self.D1 = nn.Linear(self.num_features, 512)\n",
    "        self.LN_1 = nn.LayerNorm(512)\n",
    "        self.D2 = nn.Linear(512, 128)\n",
    "        self.LN_2 = nn.LayerNorm(128)\n",
    "        self.out = nn.Linear(128, NUM_LABELS)  # Output 1000-long boolean vector\n",
    "    \n",
    "    def forward(self, x):\n",
    "        x = self.cnn_model(x)\n",
    "        x = x.view(x.size(0), -1)\n",
    "        \n",
    "        x = self.D1(x)\n",
    "        x = self.LN_1(x)\n",
    "        x = nn.functional.leaky_relu(x)\n",
    "        \n",
    "        x = self.D2(x)\n",
    "        x = self.LN_2(x)\n",
    "        x = nn.functional.leaky_relu(x)\n",
    "        \n",
    "        out = self.out(x)\n",
    "        \n",
    "        return out\n"
   ]
  },
  {
   "cell_type": "code",
   "execution_count": 5,
   "metadata": {},
   "outputs": [],
   "source": [
    "# Dataset class for image and 1000 length attribute vector.\n",
    "class ImageAttributeDataset(Dataset):\n",
    "    def __init__(self, dataframe, base_path, transform=None):\n",
    "        self.dataframe = dataframe\n",
    "        self.base_path = base_path\n",
    "        self.transform = transform\n",
    "    \n",
    "    def __len__(self):\n",
    "        return len(self.dataframe)\n",
    "    \n",
    "    def __getitem__(self, idx):\n",
    "        img_name = self.dataframe.iloc[idx]['image_name']\n",
    "        img_path = self.base_path + img_name  # Concatenate base path with image name\n",
    "        attribute_vector = self.dataframe.iloc[idx][1:].values.astype('float64')\n",
    "        \n",
    "        # Load image from file\n",
    "        img = Image.open(img_path).convert('RGB')\n",
    "        \n",
    "        # Apply transformations if specified\n",
    "        if self.transform:\n",
    "            img = self.transform(img)\n",
    "        \n",
    "        # Convert attribute vector to tensor\n",
    "        attribute_tensor = torch.tensor(attribute_vector, dtype=torch.float32)\n",
    "        attribute_tensor = attribute_tensor.type(torch.LongTensor)\n",
    "        \n",
    "        return img, attribute_tensor"
   ]
  },
  {
   "cell_type": "code",
   "execution_count": 6,
   "metadata": {},
   "outputs": [],
   "source": [
    "# Define transforms\n",
    "transform = transforms.Compose([\n",
    "    transforms.Resize((224, 224)),\n",
    "    transforms.ToTensor(),\n",
    "])\n",
    "\n",
    "train_transform = transforms.Compose([\n",
    "    transforms.Resize((224, 224)),\n",
    "    transforms.RandomHorizontalFlip(),\n",
    "    transforms.ColorJitter(brightness=0.2, saturation=0.5),\n",
    "    transforms.ToTensor()\n",
    "])"
   ]
  },
  {
   "cell_type": "code",
   "execution_count": 7,
   "metadata": {},
   "outputs": [],
   "source": [
    "# Multilabel conf matrix\n",
    "def metrics_df(data):\n",
    "    df = pd.DataFrame(columns=[\"type\", \"precision\", \"recall\", 'f1-score', 'support'])\n",
    "    metrics = ['micro avg', 'macro avg', 'samples avg', 'weighted avg']\n",
    "\n",
    "    for metric in metrics:\n",
    "        precision = data[metric]['precision']\n",
    "        recall = data[metric]['recall']\n",
    "        f1_score = data[metric]['f1-score']\n",
    "        support = data[metric]['support']\n",
    "\n",
    "        df.loc[-1] = [metric, \"%.5f\" %precision, \"%.5f\" %recall, \"%.5f\" %f1_score, \"%d\" %support]  # adding a row\n",
    "        df.index = df.index + 1  # shifting index\n",
    "        df = df.sort_index()  # sorting by index\n",
    "    \n",
    "    df_no = df.reset_index(drop=True)\n",
    "\n",
    "    print(tabulate(df_no, headers='keys', tablefmt='psql', showindex=False))\n",
    "\n",
    "    return df"
   ]
  },
  {
   "cell_type": "code",
   "execution_count": 8,
   "metadata": {},
   "outputs": [],
   "source": [
    "# Exact Paths\n",
    "PATH_ATTR_FILE = \"C:/Users/hecan/Desktop/Project/Benchmark/Anno/list_attr_img.txt\"\n",
    "PATH_PART_FILE = \"C:/Users/hecan/Desktop/Project/Benchmark/Eval/list_eval_partition.txt\"\n",
    "BASE_PATH = \"C:/Users/hecan/Desktop/Project/Benchmark/\"\n",
    "DATAFRAME_PATH = BASE_PATH + \"dataframe.csv\""
   ]
  },
  {
   "cell_type": "code",
   "execution_count": 9,
   "metadata": {},
   "outputs": [
    {
     "data": {
      "text/html": [
       "<div>\n",
       "<style scoped>\n",
       "    .dataframe tbody tr th:only-of-type {\n",
       "        vertical-align: middle;\n",
       "    }\n",
       "\n",
       "    .dataframe tbody tr th {\n",
       "        vertical-align: top;\n",
       "    }\n",
       "\n",
       "    .dataframe thead th {\n",
       "        text-align: right;\n",
       "    }\n",
       "</style>\n",
       "<table border=\"1\" class=\"dataframe\">\n",
       "  <thead>\n",
       "    <tr style=\"text-align: right;\">\n",
       "      <th></th>\n",
       "      <th>image_name</th>\n",
       "      <th>evaluation_status</th>\n",
       "      <th>attr_0</th>\n",
       "      <th>attr_1</th>\n",
       "      <th>attr_2</th>\n",
       "      <th>attr_3</th>\n",
       "      <th>attr_4</th>\n",
       "      <th>attr_5</th>\n",
       "      <th>attr_6</th>\n",
       "      <th>attr_7</th>\n",
       "      <th>...</th>\n",
       "      <th>attr_990</th>\n",
       "      <th>attr_991</th>\n",
       "      <th>attr_992</th>\n",
       "      <th>attr_993</th>\n",
       "      <th>attr_994</th>\n",
       "      <th>attr_995</th>\n",
       "      <th>attr_996</th>\n",
       "      <th>attr_997</th>\n",
       "      <th>attr_998</th>\n",
       "      <th>attr_999</th>\n",
       "    </tr>\n",
       "  </thead>\n",
       "  <tbody>\n",
       "    <tr>\n",
       "      <th>0</th>\n",
       "      <td>img/Sheer_Pleated-Front_Blouse/img_00000001.jpg</td>\n",
       "      <td>train</td>\n",
       "      <td>0</td>\n",
       "      <td>0</td>\n",
       "      <td>0</td>\n",
       "      <td>0</td>\n",
       "      <td>0</td>\n",
       "      <td>0</td>\n",
       "      <td>0</td>\n",
       "      <td>0</td>\n",
       "      <td>...</td>\n",
       "      <td>0</td>\n",
       "      <td>0</td>\n",
       "      <td>0</td>\n",
       "      <td>0</td>\n",
       "      <td>0</td>\n",
       "      <td>0</td>\n",
       "      <td>0</td>\n",
       "      <td>0</td>\n",
       "      <td>0</td>\n",
       "      <td>0</td>\n",
       "    </tr>\n",
       "    <tr>\n",
       "      <th>1</th>\n",
       "      <td>img/Sheer_Pleated-Front_Blouse/img_00000002.jpg</td>\n",
       "      <td>train</td>\n",
       "      <td>0</td>\n",
       "      <td>0</td>\n",
       "      <td>0</td>\n",
       "      <td>0</td>\n",
       "      <td>0</td>\n",
       "      <td>0</td>\n",
       "      <td>0</td>\n",
       "      <td>0</td>\n",
       "      <td>...</td>\n",
       "      <td>0</td>\n",
       "      <td>0</td>\n",
       "      <td>0</td>\n",
       "      <td>0</td>\n",
       "      <td>0</td>\n",
       "      <td>0</td>\n",
       "      <td>0</td>\n",
       "      <td>0</td>\n",
       "      <td>0</td>\n",
       "      <td>0</td>\n",
       "    </tr>\n",
       "    <tr>\n",
       "      <th>2</th>\n",
       "      <td>img/Sheer_Pleated-Front_Blouse/img_00000003.jpg</td>\n",
       "      <td>val</td>\n",
       "      <td>0</td>\n",
       "      <td>0</td>\n",
       "      <td>0</td>\n",
       "      <td>0</td>\n",
       "      <td>0</td>\n",
       "      <td>0</td>\n",
       "      <td>0</td>\n",
       "      <td>0</td>\n",
       "      <td>...</td>\n",
       "      <td>0</td>\n",
       "      <td>0</td>\n",
       "      <td>0</td>\n",
       "      <td>0</td>\n",
       "      <td>0</td>\n",
       "      <td>0</td>\n",
       "      <td>0</td>\n",
       "      <td>0</td>\n",
       "      <td>0</td>\n",
       "      <td>0</td>\n",
       "    </tr>\n",
       "    <tr>\n",
       "      <th>3</th>\n",
       "      <td>img/Sheer_Pleated-Front_Blouse/img_00000004.jpg</td>\n",
       "      <td>train</td>\n",
       "      <td>0</td>\n",
       "      <td>0</td>\n",
       "      <td>0</td>\n",
       "      <td>0</td>\n",
       "      <td>0</td>\n",
       "      <td>0</td>\n",
       "      <td>0</td>\n",
       "      <td>0</td>\n",
       "      <td>...</td>\n",
       "      <td>0</td>\n",
       "      <td>0</td>\n",
       "      <td>0</td>\n",
       "      <td>0</td>\n",
       "      <td>0</td>\n",
       "      <td>0</td>\n",
       "      <td>0</td>\n",
       "      <td>0</td>\n",
       "      <td>0</td>\n",
       "      <td>0</td>\n",
       "    </tr>\n",
       "    <tr>\n",
       "      <th>4</th>\n",
       "      <td>img/Sheer_Pleated-Front_Blouse/img_00000005.jpg</td>\n",
       "      <td>test</td>\n",
       "      <td>0</td>\n",
       "      <td>0</td>\n",
       "      <td>0</td>\n",
       "      <td>0</td>\n",
       "      <td>0</td>\n",
       "      <td>0</td>\n",
       "      <td>0</td>\n",
       "      <td>0</td>\n",
       "      <td>...</td>\n",
       "      <td>0</td>\n",
       "      <td>0</td>\n",
       "      <td>0</td>\n",
       "      <td>0</td>\n",
       "      <td>0</td>\n",
       "      <td>0</td>\n",
       "      <td>0</td>\n",
       "      <td>0</td>\n",
       "      <td>0</td>\n",
       "      <td>0</td>\n",
       "    </tr>\n",
       "  </tbody>\n",
       "</table>\n",
       "<p>5 rows × 1002 columns</p>\n",
       "</div>"
      ],
      "text/plain": [
       "                                        image_name evaluation_status  attr_0  \\\n",
       "0  img/Sheer_Pleated-Front_Blouse/img_00000001.jpg             train       0   \n",
       "1  img/Sheer_Pleated-Front_Blouse/img_00000002.jpg             train       0   \n",
       "2  img/Sheer_Pleated-Front_Blouse/img_00000003.jpg               val       0   \n",
       "3  img/Sheer_Pleated-Front_Blouse/img_00000004.jpg             train       0   \n",
       "4  img/Sheer_Pleated-Front_Blouse/img_00000005.jpg              test       0   \n",
       "\n",
       "   attr_1  attr_2  attr_3  attr_4  attr_5  attr_6  attr_7  ...  attr_990  \\\n",
       "0       0       0       0       0       0       0       0  ...         0   \n",
       "1       0       0       0       0       0       0       0  ...         0   \n",
       "2       0       0       0       0       0       0       0  ...         0   \n",
       "3       0       0       0       0       0       0       0  ...         0   \n",
       "4       0       0       0       0       0       0       0  ...         0   \n",
       "\n",
       "   attr_991  attr_992  attr_993  attr_994  attr_995  attr_996  attr_997  \\\n",
       "0         0         0         0         0         0         0         0   \n",
       "1         0         0         0         0         0         0         0   \n",
       "2         0         0         0         0         0         0         0   \n",
       "3         0         0         0         0         0         0         0   \n",
       "4         0         0         0         0         0         0         0   \n",
       "\n",
       "   attr_998  attr_999  \n",
       "0         0         0  \n",
       "1         0         0  \n",
       "2         0         0  \n",
       "3         0         0  \n",
       "4         0         0  \n",
       "\n",
       "[5 rows x 1002 columns]"
      ]
     },
     "execution_count": 9,
     "metadata": {},
     "output_type": "execute_result"
    }
   ],
   "source": [
    "all_df = pd.read_csv('dataframe.csv')\n",
    "all_df.head()"
   ]
  },
  {
   "cell_type": "code",
   "execution_count": 10,
   "metadata": {},
   "outputs": [],
   "source": [
    "# Top x most used class filter\n",
    "def filter_data(all_df, r):\n",
    "    # Extract the `attr` columns\n",
    "    attr_columns = [col for col in all_df.columns if col.startswith('attr_')]\n",
    "    attr_df = all_df[attr_columns]\n",
    "\n",
    "    # Convert to numpy array\n",
    "    attr_array = attr_df.values\n",
    "\n",
    "    # Calculate class frequencies\n",
    "    class_counts = np.sum(attr_array, axis=0)\n",
    "\n",
    "    threshold = np.percentile(class_counts, r)\n",
    "    attr_100_list = list()\n",
    "    class_counts_x = list()\n",
    "\n",
    "    for i in range(len(class_counts)):\n",
    "        if class_counts[i] >= threshold:\n",
    "            attr_100_list.append(f\"attr_{i}\")\n",
    "            class_counts_x.append(class_counts[i])\n",
    "\n",
    "    cols = [\"image_name\", \"evaluation_status\"]\n",
    "    cols.extend(attr_100_list)\n",
    "    filtered_df = all_df[cols]\n",
    "    return filtered_df, attr_100_list, class_counts_x\n",
    "\n",
    "filtered_df, attr_100_list, class_counts = filter_data(all_df, 98)"
   ]
  },
  {
   "cell_type": "code",
   "execution_count": 11,
   "metadata": {},
   "outputs": [
    {
     "name": "stdout",
     "output_type": "stream",
     "text": [
      "Length of test_df:  40000\n",
      "Length of train_df:  209222\n",
      "Length of val_df:  40000\n"
     ]
    }
   ],
   "source": [
    "# Dataset Prepare\n",
    "train_df_und = filtered_df[filtered_df['evaluation_status'] == 'train']\n",
    "test_df_und = filtered_df[filtered_df['evaluation_status'] == 'test']\n",
    "val_df_und = filtered_df[filtered_df['evaluation_status'] == 'val']\n",
    "\n",
    "train_df = train_df_und.drop(columns=['evaluation_status'])\n",
    "test_df = test_df_und.drop(columns=['evaluation_status'])\n",
    "val_df = val_df_und.drop(columns=['evaluation_status'])\n",
    "\n",
    "print(\"Length of test_df: \", len(test_df)) #40k test, rest train\n",
    "print(\"Length of train_df: \", len(train_df)) #40k test, rest train\n",
    "print(\"Length of val_df: \", len(val_df)) #40k test, rest train\n",
    "\n",
    "train_dataset = ImageAttributeDataset(dataframe=train_df, base_path=BASE_PATH, transform=train_transform)\n",
    "test_dataset = ImageAttributeDataset(dataframe=test_df, base_path=BASE_PATH, transform=transform)\n",
    "val_dataset = ImageAttributeDataset(dataframe=val_df, base_path=BASE_PATH, transform=transform)\n",
    "\n",
    "train_loader = DataLoader(train_dataset, batch_size=BATCH_SIZE, shuffle=True)\n",
    "test_loader = DataLoader(test_dataset, batch_size=BATCH_SIZE, shuffle=False)\n",
    "val_loader = DataLoader(val_dataset, batch_size=BATCH_SIZE, shuffle=False)"
   ]
  },
  {
   "cell_type": "code",
   "execution_count": 12,
   "metadata": {},
   "outputs": [],
   "source": [
    "# Extract the `attr` columns\n",
    "attr_columns = [col for col in filtered_df.columns if col.startswith('attr_')]\n",
    "attr_df = filtered_df[attr_columns]\n",
    "\n",
    "# Convert to numpy array\n",
    "attr_array = attr_df.values\n",
    "\n",
    "# Calculate class frequencies\n",
    "class_counts = np.sum(attr_array, axis=0)"
   ]
  },
  {
   "cell_type": "code",
   "execution_count": 13,
   "metadata": {},
   "outputs": [],
   "source": [
    "class FocalLoss(nn.Module):\n",
    "    def __init__(self, gamma=2):\n",
    "        super(FocalLoss, self).__init__()\n",
    "        self.gamma = gamma\n",
    "\n",
    "    def forward(self, logits, targets):\n",
    "        logits = logits.view(-1)\n",
    "        targets = targets.view(-1)\n",
    "        probs = torch.sigmoid(logits)\n",
    "        probs = torch.where(targets >= 0.5, probs, 1 - probs)\n",
    "        log_probs = -torch.log(torch.clamp(probs, 1e-4, 1 - 1e-4))\n",
    "        loss = log_probs * ((1 - probs) ** self.gamma)\n",
    "        return NUM_LABELS*loss.mean()"
   ]
  },
  {
   "cell_type": "code",
   "execution_count": 14,
   "metadata": {},
   "outputs": [],
   "source": [
    "# Load model\n",
    "model = SiameseModel(timm_model_name=MODEL_NAME)\n",
    "model.load_state_dict(torch.load('focal_loss_v2.pt')).to(device) # to remove\n",
    "\n",
    "# Assuming optimizer is your optimizer (e.g., Adam)\n",
    "optimizer = torch.optim.Adam(model.parameters(), lr=LR_RATE)\n",
    "\n",
    "# Define the loss function with class weights\n",
    "criterion = FocalLoss()"
   ]
  },
  {
   "cell_type": "code",
   "execution_count": 13,
   "metadata": {},
   "outputs": [
    {
     "data": {
      "text/plain": [
       "tensor([[0, 0, 0, 0, 0, 0, 0, 1, 0, 0, 0, 0, 0, 0, 0, 0, 1, 0, 0, 0]])"
      ]
     },
     "execution_count": 13,
     "metadata": {},
     "output_type": "execute_result"
    }
   ],
   "source": [
    "x1 = train_dataset[217][0].unsqueeze(0)\n",
    "y1 = train_dataset[217][1].unsqueeze(0)\n",
    "y1"
   ]
  },
  {
   "cell_type": "code",
   "execution_count": 14,
   "metadata": {},
   "outputs": [
    {
     "data": {
      "text/plain": [
       "(torch.Size([1, 3, 224, 224]), torch.Size([1, 20]))"
      ]
     },
     "execution_count": 14,
     "metadata": {},
     "output_type": "execute_result"
    }
   ],
   "source": [
    "x1.shape, y1.shape"
   ]
  },
  {
   "cell_type": "code",
   "execution_count": 15,
   "metadata": {},
   "outputs": [
    {
     "data": {
      "text/plain": [
       "tensor([[-0.3097,  0.4958,  0.3076, -0.2791, -0.4870,  0.1124,  0.1391, -0.1276,\n",
       "          0.4415, -0.2493,  0.0764,  0.6369, -0.8751,  0.7061, -0.5996, -0.5721,\n",
       "         -0.7564,  0.1939,  0.2591,  0.3942]], grad_fn=<AddmmBackward0>)"
      ]
     },
     "execution_count": 15,
     "metadata": {},
     "output_type": "execute_result"
    }
   ],
   "source": [
    "logits = model(x1)\n",
    "logits"
   ]
  },
  {
   "cell_type": "code",
   "execution_count": 16,
   "metadata": {},
   "outputs": [],
   "source": [
    "logits = logits.reshape(-1)\n",
    "y1 = y1.reshape(-1)"
   ]
  },
  {
   "cell_type": "code",
   "execution_count": 17,
   "metadata": {},
   "outputs": [
    {
     "data": {
      "text/plain": [
       "tensor([0.4232, 0.6215, 0.5763, 0.4307, 0.3806, 0.5281, 0.5347, 0.4681, 0.6086,\n",
       "        0.4380, 0.5191, 0.6541, 0.2942, 0.6695, 0.3544, 0.3607, 0.3194, 0.5483,\n",
       "        0.5644, 0.5973], grad_fn=<SigmoidBackward0>)"
      ]
     },
     "execution_count": 17,
     "metadata": {},
     "output_type": "execute_result"
    }
   ],
   "source": [
    "p = torch.sigmoid(logits)\n",
    "p"
   ]
  },
  {
   "cell_type": "code",
   "execution_count": 18,
   "metadata": {},
   "outputs": [
    {
     "name": "stdout",
     "output_type": "stream",
     "text": [
      "Epoch 1/10\n"
     ]
    },
    {
     "name": "stderr",
     "output_type": "stream",
     "text": [
      "  0%|          | 0/13077 [00:00<?, ?batch/s]c:\\Users\\hecan\\AppData\\Local\\Programs\\Python\\Python311\\Lib\\site-packages\\timm\\models\\vision_transformer.py:91: UserWarning: 1Torch was not compiled with flash attention. (Triggered internally at ..\\aten\\src\\ATen\\native\\transformers\\cuda\\sdp_utils.cpp:455.)\n",
      "  x = F.scaled_dot_product_attention(\n",
      "100%|██████████| 13077/13077 [20:54<00:00, 10.42batch/s]\n"
     ]
    },
    {
     "name": "stdout",
     "output_type": "stream",
     "text": [
      "Training loss: 0.5931 Validation loss: 0.7473\n",
      "+--------------+-------------+----------+------------+-----------+\n",
      "| type         |   precision |   recall |   f1-score |   support |\n",
      "|--------------+-------------+----------+------------+-----------|\n",
      "| weighted avg |     0.65289 |  0.17362 |    0.22446 |     36389 |\n",
      "| samples avg  |     0.91212 |  0.51761 |    0.48462 |     36389 |\n",
      "| macro avg    |     0.70173 |  0.12612 |    0.16778 |     36389 |\n",
      "| micro avg    |     0.60051 |  0.17362 |    0.26937 |     36389 |\n",
      "+--------------+-------------+----------+------------+-----------+\n",
      "Epoch 2/10\n"
     ]
    },
    {
     "name": "stderr",
     "output_type": "stream",
     "text": [
      "100%|██████████| 13077/13077 [19:09<00:00, 11.38batch/s]\n"
     ]
    },
    {
     "name": "stdout",
     "output_type": "stream",
     "text": [
      "Training loss: 0.5947 Validation loss: 0.7358\n",
      "+--------------+-------------+----------+------------+-----------+\n",
      "| type         |   precision |   recall |   f1-score |   support |\n",
      "|--------------+-------------+----------+------------+-----------|\n",
      "| weighted avg |     0.63108 |  0.18646 |    0.24401 |     36389 |\n",
      "| samples avg  |     0.91094 |  0.5247  |    0.49103 |     36389 |\n",
      "| macro avg    |     0.66336 |  0.14184 |    0.19181 |     36389 |\n",
      "| micro avg    |     0.60694 |  0.18646 |    0.28528 |     36389 |\n",
      "+--------------+-------------+----------+------------+-----------+\n",
      "Epoch 3/10\n"
     ]
    },
    {
     "name": "stderr",
     "output_type": "stream",
     "text": [
      "100%|██████████| 13077/13077 [19:13<00:00, 11.34batch/s]\n"
     ]
    },
    {
     "name": "stdout",
     "output_type": "stream",
     "text": [
      "Training loss: 0.5497 Validation loss: 0.7339\n",
      "+--------------+-------------+----------+------------+-----------+\n",
      "| type         |   precision |   recall |   f1-score |   support |\n",
      "|--------------+-------------+----------+------------+-----------|\n",
      "| weighted avg |     0.63081 |  0.15736 |    0.21721 |     36389 |\n",
      "| samples avg  |     0.93206 |  0.50874 |    0.48615 |     36389 |\n",
      "| macro avg    |     0.64996 |  0.12367 |    0.17402 |     36389 |\n",
      "| micro avg    |     0.64243 |  0.15736 |    0.25279 |     36389 |\n",
      "+--------------+-------------+----------+------------+-----------+\n",
      "Epoch 4/10\n"
     ]
    },
    {
     "name": "stderr",
     "output_type": "stream",
     "text": [
      "100%|██████████| 13077/13077 [19:20<00:00, 11.27batch/s]\n"
     ]
    },
    {
     "name": "stdout",
     "output_type": "stream",
     "text": [
      "Training loss: 0.5800 Validation loss: 0.7345\n",
      "+--------------+-------------+----------+------------+-----------+\n",
      "| type         |   precision |   recall |   f1-score |   support |\n",
      "|--------------+-------------+----------+------------+-----------|\n",
      "| weighted avg |     0.5888  |  0.19072 |    0.24441 |     36389 |\n",
      "| samples avg  |     0.90954 |  0.52631 |    0.48924 |     36389 |\n",
      "| macro avg    |     0.58861 |  0.13251 |    0.18217 |     36389 |\n",
      "| micro avg    |     0.60301 |  0.19072 |    0.28978 |     36389 |\n",
      "+--------------+-------------+----------+------------+-----------+\n",
      "Epoch 5/10\n"
     ]
    },
    {
     "name": "stderr",
     "output_type": "stream",
     "text": [
      "100%|██████████| 13077/13077 [19:16<00:00, 11.31batch/s]\n"
     ]
    },
    {
     "name": "stdout",
     "output_type": "stream",
     "text": [
      "Training loss: 0.5830 Validation loss: 0.7284\n",
      "+--------------+-------------+----------+------------+-----------+\n",
      "| type         |   precision |   recall |   f1-score |   support |\n",
      "|--------------+-------------+----------+------------+-----------|\n",
      "| weighted avg |     0.58539 |  0.19445 |    0.25887 |     36389 |\n",
      "| samples avg  |     0.90851 |  0.52958 |    0.49581 |     36389 |\n",
      "| macro avg    |     0.58714 |  0.15393 |    0.20899 |     36389 |\n",
      "| micro avg    |     0.61632 |  0.19445 |    0.29563 |     36389 |\n",
      "+--------------+-------------+----------+------------+-----------+\n",
      "Epoch 6/10\n"
     ]
    },
    {
     "name": "stderr",
     "output_type": "stream",
     "text": [
      "100%|██████████| 13077/13077 [19:20<00:00, 11.27batch/s]\n"
     ]
    },
    {
     "name": "stdout",
     "output_type": "stream",
     "text": [
      "Training loss: 0.5571 Validation loss: 0.7258\n",
      "+--------------+-------------+----------+------------+-----------+\n",
      "| type         |   precision |   recall |   f1-score |   support |\n",
      "|--------------+-------------+----------+------------+-----------|\n",
      "| weighted avg |     0.58604 |  0.18896 |    0.25533 |     36389 |\n",
      "| samples avg  |     0.91627 |  0.52471 |    0.49491 |     36389 |\n",
      "| macro avg    |     0.57994 |  0.14783 |    0.20587 |     36389 |\n",
      "| micro avg    |     0.62379 |  0.18896 |    0.29005 |     36389 |\n",
      "+--------------+-------------+----------+------------+-----------+\n",
      "Epoch 7/10\n"
     ]
    },
    {
     "name": "stderr",
     "output_type": "stream",
     "text": [
      "100%|██████████| 13077/13077 [19:31<00:00, 11.16batch/s]\n"
     ]
    },
    {
     "name": "stdout",
     "output_type": "stream",
     "text": [
      "Training loss: 0.5700 Validation loss: 0.7328\n",
      "+--------------+-------------+----------+------------+-----------+\n",
      "| type         |   precision |   recall |   f1-score |   support |\n",
      "|--------------+-------------+----------+------------+-----------|\n",
      "| weighted avg |     0.56835 |  0.20523 |    0.27153 |     36389 |\n",
      "| samples avg  |     0.90141 |  0.53538 |    0.49662 |     36389 |\n",
      "| macro avg    |     0.56593 |  0.16103 |    0.21971 |     36389 |\n",
      "| micro avg    |     0.60387 |  0.20523 |    0.30634 |     36389 |\n",
      "+--------------+-------------+----------+------------+-----------+\n",
      "Epoch 8/10\n"
     ]
    },
    {
     "name": "stderr",
     "output_type": "stream",
     "text": [
      "100%|██████████| 13077/13077 [19:30<00:00, 11.17batch/s]\n"
     ]
    },
    {
     "name": "stdout",
     "output_type": "stream",
     "text": [
      "Training loss: 0.5251 Validation loss: 0.7334\n",
      "+--------------+-------------+----------+------------+-----------+\n",
      "| type         |   precision |   recall |   f1-score |   support |\n",
      "|--------------+-------------+----------+------------+-----------|\n",
      "| weighted avg |     0.55853 |  0.19448 |    0.25957 |     36389 |\n",
      "| samples avg  |     0.91166 |  0.53004 |    0.49658 |     36389 |\n",
      "| macro avg    |     0.53621 |  0.15132 |    0.20818 |     36389 |\n",
      "| micro avg    |     0.62358 |  0.19448 |    0.29649 |     36389 |\n",
      "+--------------+-------------+----------+------------+-----------+\n",
      "Epoch 9/10\n"
     ]
    },
    {
     "name": "stderr",
     "output_type": "stream",
     "text": [
      "100%|██████████| 13077/13077 [18:57<00:00, 11.50batch/s]\n"
     ]
    },
    {
     "name": "stdout",
     "output_type": "stream",
     "text": [
      "Training loss: 0.5669 Validation loss: 0.7357\n",
      "+--------------+-------------+----------+------------+-----------+\n",
      "| type         |   precision |   recall |   f1-score |   support |\n",
      "|--------------+-------------+----------+------------+-----------|\n",
      "| weighted avg |     0.56695 |  0.22163 |    0.2792  |     36389 |\n",
      "| samples avg  |     0.89289 |  0.54407 |    0.50002 |     36389 |\n",
      "| macro avg    |     0.56706 |  0.16742 |    0.22073 |     36389 |\n",
      "| micro avg    |     0.59599 |  0.22163 |    0.32311 |     36389 |\n",
      "+--------------+-------------+----------+------------+-----------+\n",
      "Epoch 10/10\n"
     ]
    },
    {
     "name": "stderr",
     "output_type": "stream",
     "text": [
      "100%|██████████| 13077/13077 [19:10<00:00, 11.36batch/s]\n"
     ]
    },
    {
     "name": "stdout",
     "output_type": "stream",
     "text": [
      "Training loss: 0.5276 Validation loss: 0.7457\n",
      "+--------------+-------------+----------+------------+-----------+\n",
      "| type         |   precision |   recall |   f1-score |   support |\n",
      "|--------------+-------------+----------+------------+-----------|\n",
      "| weighted avg |     0.54281 |  0.20267 |    0.26387 |     36389 |\n",
      "| samples avg  |     0.89846 |  0.53576 |    0.49593 |     36389 |\n",
      "| macro avg    |     0.51272 |  0.1584  |    0.21415 |     36389 |\n",
      "| micro avg    |     0.60121 |  0.20267 |    0.30315 |     36389 |\n",
      "+--------------+-------------+----------+------------+-----------+\n",
      "Training complete!\n"
     ]
    }
   ],
   "source": [
    "# Training loop with validation\n",
    "num_epochs = 10\n",
    "model.to(device)\n",
    "\n",
    "# Initialize lists to store true labels and predicted labels for the entire validation set\n",
    "train_losses = []\n",
    "val_losses = []\n",
    "\n",
    "for epoch in range(num_epochs):\n",
    "\n",
    "    model.train()\n",
    "    running_loss = 0.0\n",
    "\n",
    "    print(f\"Epoch {epoch+1}/{num_epochs}\")\n",
    "\n",
    "    # Training phase\n",
    "    with tqdm(train_loader, unit=\"batch\") as t:\n",
    "        for batch_idx, (images, attributes) in enumerate(t):\n",
    "            images, attributes = images.to(device), attributes.to(device)\n",
    "            \n",
    "            optimizer.zero_grad()\n",
    "            \n",
    "            outputs = model(images)\n",
    "            loss = criterion(outputs, attributes.float())\n",
    "            loss.backward()\n",
    "            optimizer.step()\n",
    "            running_loss += loss.item() * attributes.size(0)\n",
    "        \n",
    "        epoch_loss = running_loss / len(train_loader.dataset)\n",
    "        train_losses.append(epoch_loss)\n",
    "    \n",
    "    # Validation phase\n",
    "    model.eval()\n",
    "    val_loss = 0.0\n",
    "\n",
    "    # Initialize lists to store true labels and predicted labels for the entire validation set\n",
    "    true_labels = []\n",
    "    predicted_labels = []\n",
    "\n",
    "    with torch.no_grad():\n",
    "        for images_val, attributes_val in val_loader:\n",
    "            images_val, attributes_val = images_val.to(device), attributes_val.to(device)\n",
    "            val_outputs = model(images_val)\n",
    "            loss = criterion(val_outputs, attributes_val.float())\n",
    "            val_loss += loss.item() * attributes_val.size(0)\n",
    "            \n",
    "            # Convert outputs to binary predictions using a threshold (e.g., 0.5)\n",
    "            predicted = val_outputs > THRESHOLD\n",
    "            \n",
    "            # Convert tensors to numpy arrays\n",
    "            attributes_val_np = attributes_val.cpu().numpy()\n",
    "            predicted_np = predicted.cpu().numpy()\n",
    "            \n",
    "            # Append true labels and predicted labels to the lists\n",
    "            true_labels.extend(attributes_val_np)\n",
    "            predicted_labels.extend(predicted_np)\n",
    "    \n",
    "    val_loss /= len(val_loader.dataset)\n",
    "\n",
    "    val_losses.append(val_loss)\n",
    "    \n",
    "    # Compute confusion matrix\n",
    "    print(f\"Training loss: {loss.item():.4f}\", f\"Validation loss: {val_loss:.4f}\")\n",
    "    d = classification_report(true_labels, predicted_labels, target_names=attr_100_list, output_dict=True, zero_division=1)\n",
    "    df_metrics = metrics_df(d)\n",
    "\n",
    "\n",
    "print(\"Training complete!\")"
   ]
  },
  {
   "cell_type": "code",
   "execution_count": 19,
   "metadata": {},
   "outputs": [
    {
     "data": {
      "image/png": "[encoded data removed]",
      "text/plain": [
       "<Figure size 1000x500 with 1 Axes>"
      ]
     },
     "metadata": {},
     "output_type": "display_data"
    }
   ],
   "source": [
    "plt.figure(figsize=(10, 5))\n",
    "plt.plot(train_losses, label='Training Loss')\n",
    "plt.plot(val_losses, label='Validation Loss')\n",
    "plt.xlabel('Epochs')\n",
    "plt.ylabel('Loss')\n",
    "plt.title('Loss Curves')\n",
    "plt.legend()\n",
    "plt.show()"
   ]
  },
  {
   "cell_type": "code",
   "execution_count": 29,
   "metadata": {},
   "outputs": [
    {
     "name": "stdout",
     "output_type": "stream",
     "text": [
      "+--------------+-------------+----------+------------+-----------+\n",
      "| type         |   precision |   recall |   f1-score |   support |\n",
      "|--------------+-------------+----------+------------+-----------|\n",
      "| weighted avg |     0.26082 |  0.61924 |    0.36397 |     36128 |\n",
      "| samples avg  |     0.32281 |  0.77885 |    0.32377 |     36128 |\n",
      "| macro avg    |     0.23662 |  0.55393 |    0.32877 |     36128 |\n",
      "| micro avg    |     0.25028 |  0.61924 |    0.35648 |     36128 |\n",
      "+--------------+-------------+----------+------------+-----------+\n",
      "4.44593102760315\n"
     ]
    }
   ],
   "source": [
    "# Initialize lists to store true labels and predicted labels for the entire validation set\n",
    "true_labels = []\n",
    "predicted_labels = []\n",
    "\n",
    "# Validation phase\n",
    "model.eval()\n",
    "loss = 0.0\n",
    "with torch.no_grad():\n",
    "    for images_test, attributes_test in test_loader:\n",
    "        images_test, attributes_test = images_test.to(device), attributes_test.to(device)\n",
    "        test_outputs = torch.sigmoid(model(images_test))\n",
    "        test_loss = criterion(test_outputs, attributes_test.float())\n",
    "        loss += test_loss.item()\n",
    "        \n",
    "        # Convert outputs to binary predictions using a threshold (e.g., 0.5)\n",
    "        predicted = test_outputs > 0.3\n",
    "        \n",
    "        # Convert tensors to numpy arrays\n",
    "        attributes_test_np = attributes_test.cpu().numpy()\n",
    "        predicted_np = predicted.cpu().numpy()\n",
    "        \n",
    "        # Append true labels and predicted labels to the lists\n",
    "        true_labels.extend(attributes_test_np)\n",
    "        predicted_labels.extend(predicted_np)\n",
    "\n",
    "loss /= len(test_loader)\n",
    "\n",
    "# Compute confusion matrix\n",
    "d = classification_report(true_labels, predicted_labels, target_names=attr_100_list, output_dict=True, zero_division=1)\n",
    "df_metrics = metrics_df(d)\n",
    "print(loss)"
   ]
  },
  {
   "cell_type": "code",
   "execution_count": 17,
   "metadata": {},
   "outputs": [
    {
     "name": "stderr",
     "output_type": "stream",
     "text": [
      "c:\\Users\\hecan\\AppData\\Local\\Programs\\Python\\Python311\\Lib\\site-packages\\timm\\models\\vision_transformer.py:91: UserWarning: 1Torch was not compiled with flash attention. (Triggered internally at ..\\aten\\src\\ATen\\native\\transformers\\cuda\\sdp_utils.cpp:455.)\n",
      "  x = F.scaled_dot_product_attention(\n"
     ]
    },
    {
     "name": "stdout",
     "output_type": "stream",
     "text": [
      "+--------------+-------------+----------+------------+-----------+\n",
      "| type         |   precision |   recall |   f1-score |   support |\n",
      "|--------------+-------------+----------+------------+-----------|\n",
      "| weighted avg |     0.56158 |  0.20383 |    0.26577 |     36128 |\n",
      "| samples avg  |     0.89984 |  0.5359  |    0.49607 |     36128 |\n",
      "| macro avg    |     0.54886 |  0.15938 |    0.21697 |     36128 |\n",
      "| micro avg    |     0.60455 |  0.20383 |    0.30487 |     36128 |\n",
      "+--------------+-------------+----------+------------+-----------+\n",
      "4.44593102760315\n"
     ]
    }
   ],
   "source": [
    "# Initialize lists to store true labels and predicted labels for the entire validation set\n",
    "true_labels = []\n",
    "predicted_labels = []\n",
    "\n",
    "# Validation phase\n",
    "model.eval()\n",
    "loss = 0.0\n",
    "with torch.no_grad():\n",
    "    for images_test, attributes_test in test_loader:\n",
    "        images_test, attributes_test = images_test.to(device), attributes_test.to(device)\n",
    "        test_outputs = torch.sigmoid(model(images_test))\n",
    "        test_loss = criterion(test_outputs, attributes_test.float())\n",
    "        loss += test_loss.item()\n",
    "        \n",
    "        # Convert outputs to binary predictions using a threshold (e.g., 0.5)\n",
    "        predicted = test_outputs > 0.5\n",
    "        \n",
    "        # Convert tensors to numpy arrays\n",
    "        attributes_test_np = attributes_test.cpu().numpy()\n",
    "        predicted_np = predicted.cpu().numpy()\n",
    "        \n",
    "        # Append true labels and predicted labels to the lists\n",
    "        true_labels.extend(attributes_test_np)\n",
    "        predicted_labels.extend(predicted_np)\n",
    "\n",
    "loss /= len(test_loader)\n",
    "\n",
    "# Compute confusion matrix\n",
    "d = classification_report(true_labels, predicted_labels, target_names=attr_100_list, output_dict=True, zero_division=1)\n",
    "df_metrics = metrics_df(d)\n",
    "print(loss)"
   ]
  },
  {
   "cell_type": "code",
   "execution_count": 18,
   "metadata": {},
   "outputs": [
    {
     "name": "stdout",
     "output_type": "stream",
     "text": [
      "+--------------+-------------+----------+------------+-----------+\n",
      "| type         |   precision |   recall |   f1-score |   support |\n",
      "|--------------+-------------+----------+------------+-----------|\n",
      "| weighted avg |     0.40482 |  0.39986 |    0.38413 |     36128 |\n",
      "| samples avg  |     0.6811  |  0.6504  |    0.47519 |     36128 |\n",
      "| macro avg    |     0.38257 |  0.33219 |    0.33694 |     36128 |\n",
      "| micro avg    |     0.42805 |  0.39986 |    0.41348 |     36128 |\n",
      "+--------------+-------------+----------+------------+-----------+\n",
      "4.44593102760315\n"
     ]
    }
   ],
   "source": [
    "# Initialize lists to store true labels and predicted labels for the entire validation set\n",
    "true_labels = []\n",
    "predicted_labels = []\n",
    "\n",
    "# Validation phase\n",
    "model.eval()\n",
    "loss = 0.0\n",
    "with torch.no_grad():\n",
    "    for images_test, attributes_test in test_loader:\n",
    "        images_test, attributes_test = images_test.to(device), attributes_test.to(device)\n",
    "        test_outputs = torch.sigmoid(model(images_test))\n",
    "        test_loss = criterion(test_outputs, attributes_test.float())\n",
    "        loss += test_loss.item()\n",
    "        \n",
    "        # Convert outputs to binary predictions using a threshold (e.g., 0.5)\n",
    "        predicted = test_outputs > 0.4\n",
    "        \n",
    "        # Convert tensors to numpy arrays\n",
    "        attributes_test_np = attributes_test.cpu().numpy()\n",
    "        predicted_np = predicted.cpu().numpy()\n",
    "        \n",
    "        # Append true labels and predicted labels to the lists\n",
    "        true_labels.extend(attributes_test_np)\n",
    "        predicted_labels.extend(predicted_np)\n",
    "\n",
    "loss /= len(test_loader)\n",
    "\n",
    "# Compute confusion matrix\n",
    "d = classification_report(true_labels, predicted_labels, target_names=attr_100_list, output_dict=True, zero_division=1)\n",
    "df_metrics = metrics_df(d)\n",
    "print(loss)"
   ]
  }
 ],
 "metadata": {
  "kernelspec": {
   "display_name": "Python 3",
   "language": "python",
   "name": "python3"
  },
  "language_info": {
   "codemirror_mode": {
    "name": "ipython",
    "version": 3
   },
   "file_extension": ".py",
   "mimetype": "text/x-python",
   "name": "python",
   "nbconvert_exporter": "python",
   "pygments_lexer": "ipython3",
   "version": "3.11.4"
  },
  "orig_nbformat": 4
 },
 "nbformat": 4,
 "nbformat_minor": 2
}
