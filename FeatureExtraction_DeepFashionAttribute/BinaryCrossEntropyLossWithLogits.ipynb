{
 "cells": [
  {
   "cell_type": "code",
   "execution_count": 1,
   "metadata": {},
   "outputs": [
    {
     "name": "stderr",
     "output_type": "stream",
     "text": [
      "c:\\Users\\hecan\\AppData\\Local\\Programs\\Python\\Python311\\Lib\\site-packages\\tqdm\\auto.py:21: TqdmWarning: IProgress not found. Please update jupyter and ipywidgets. See https://ipywidgets.readthedocs.io/en/stable/user_install.html\n",
      "  from .autonotebook import tqdm as notebook_tqdm\n"
     ]
    }
   ],
   "source": [
    "# Necessary imports\n",
    "from tabulate import tabulate\n",
    "import torch\n",
    "import torch.nn as nn\n",
    "from torch.utils.data import DataLoader, Dataset\n",
    "import timm\n",
    "import torchvision.transforms as transforms\n",
    "import pandas as pd\n",
    "from PIL import Image\n",
    "import numpy as np\n",
    "from sklearn.metrics import classification_report\n",
    "from tqdm import tqdm\n",
    "from matplotlib import pyplot as plt\n"
   ]
  },
  {
   "cell_type": "code",
   "execution_count": 2,
   "metadata": {},
   "outputs": [],
   "source": [
    "# Constants\n",
    "BATCH_SIZE = 16\n",
    "LR_RATE = 0.001\n",
    "MODEL_NAME = 'vit_small_patch32_224.augreg_in21k_ft_in1k'\n",
    "THRESHOLD = 0.5\n",
    "NUM_LABELS = 20 #########"
   ]
  },
  {
   "cell_type": "code",
   "execution_count": 16,
   "metadata": {},
   "outputs": [],
   "source": [
    "# Model\n",
    "class SiameseModel(nn.Module):\n",
    "    def __init__(self, timm_model_name):\n",
    "        super(SiameseModel, self).__init__()\n",
    "        model = timm.create_model(timm_model_name, pretrained=True)\n",
    "        self.cnn_model = timm.create_model(timm_model_name, pretrained=True)\n",
    "\n",
    "        for param in self.cnn_model.parameters(): # Freeze all the layers of the backbone\n",
    "            param.requires_grad = False\n",
    "\n",
    "        self.num_features = self.cnn_model.num_features  # Extract number of features from the model\n",
    "        self.cnn_model.reset_classifier(num_classes=0)  # Remove the final classifier layer\n",
    "        \n",
    "        self.D1 = nn.Linear(self.num_features, 512)\n",
    "        self.BN_1 = nn.BatchNorm1d(512)\n",
    "        self.D2 = nn.Linear(512, 128)\n",
    "        self.BN_2 = nn.BatchNorm1d(128)\n",
    "        self.out = nn.Linear(128, NUM_LABELS)  # Output 1000-long boolean vector\n",
    "    \n",
    "    def forward(self, x):\n",
    "        x = self.cnn_model(x)\n",
    "        x = x.view(x.size(0), -1)\n",
    "        \n",
    "        x = self.D1(x)\n",
    "        x = self.BN_1(x)\n",
    "        x = nn.functional.leaky_relu(x)\n",
    "        \n",
    "        x = self.D2(x)\n",
    "        x = self.BN_2(x)\n",
    "        x = nn.functional.leaky_relu(x)\n",
    "        \n",
    "        out = self.out(x)\n",
    "        \n",
    "        # Apply sigmoid activation to produce boolean values\n",
    "        # out = torch.sigmoid(out)\n",
    "        \n",
    "        return out\n"
   ]
  },
  {
   "cell_type": "code",
   "execution_count": 4,
   "metadata": {},
   "outputs": [],
   "source": [
    "# Dataset class for image and 1000 length attribute vector.\n",
    "class ImageAttributeDataset(Dataset):\n",
    "    def __init__(self, dataframe, base_path, transform=None):\n",
    "        self.dataframe = dataframe\n",
    "        self.base_path = base_path\n",
    "        self.transform = transform\n",
    "    \n",
    "    def __len__(self):\n",
    "        return len(self.dataframe)\n",
    "    \n",
    "    def __getitem__(self, idx):\n",
    "        img_name = self.dataframe.iloc[idx]['image_name']\n",
    "        img_path = self.base_path + img_name  # Concatenate base path with image name\n",
    "        attribute_vector = self.dataframe.iloc[idx][1:].values.astype('float64')\n",
    "        \n",
    "        # Load image from file\n",
    "        img = Image.open(img_path).convert('RGB')\n",
    "        \n",
    "        # Apply transformations if specified\n",
    "        if self.transform:\n",
    "            img = self.transform(img)\n",
    "        \n",
    "        # Convert attribute vector to tensor\n",
    "        attribute_tensor = torch.tensor(attribute_vector, dtype=torch.float32)\n",
    "        attribute_tensor = attribute_tensor.type(torch.LongTensor)\n",
    "        \n",
    "        return img, attribute_tensor"
   ]
  },
  {
   "cell_type": "code",
   "execution_count": 5,
   "metadata": {},
   "outputs": [],
   "source": [
    "# Define transforms\n",
    "transform = transforms.Compose([\n",
    "    transforms.Resize((224, 224)),\n",
    "    transforms.ToTensor(),\n",
    "])\n",
    "\n",
    "train_transform = transforms.Compose([\n",
    "    transforms.Resize((224, 224)),\n",
    "    transforms.RandomHorizontalFlip(),\n",
    "    transforms.ColorJitter(brightness=0.2, saturation=0.5),\n",
    "    transforms.ToTensor()\n",
    "])"
   ]
  },
  {
   "cell_type": "code",
   "execution_count": 6,
   "metadata": {},
   "outputs": [],
   "source": [
    "# Multilabel conf matrix\n",
    "def metrics_df(data):\n",
    "    df = pd.DataFrame(columns=[\"type\", \"precision\", \"recall\", 'f1-score', 'support'])\n",
    "    metrics = ['micro avg', 'macro avg', 'samples avg', 'weighted avg']\n",
    "\n",
    "    for metric in metrics:\n",
    "        precision = data[metric]['precision']\n",
    "        recall = data[metric]['recall']\n",
    "        f1_score = data[metric]['f1-score']\n",
    "        support = data[metric]['support']\n",
    "\n",
    "        df.loc[-1] = [metric, \"%.5f\" %precision, \"%.5f\" %recall, \"%.5f\" %f1_score, \"%d\" %support]  # adding a row\n",
    "        df.index = df.index + 1  # shifting index\n",
    "        df = df.sort_index()  # sorting by index\n",
    "    \n",
    "    df_no = df.reset_index(drop=True)\n",
    "\n",
    "    print(tabulate(df_no, headers='keys', tablefmt='psql', showindex=False))\n",
    "\n",
    "    return df"
   ]
  },
  {
   "cell_type": "code",
   "execution_count": 7,
   "metadata": {},
   "outputs": [],
   "source": [
    "# Exact Paths\n",
    "PATH_ATTR_FILE = \"C:/Users/hecan/Desktop/Project/Benchmark/Anno/list_attr_img.txt\"\n",
    "PATH_PART_FILE = \"C:/Users/hecan/Desktop/Project/Benchmark/Eval/list_eval_partition.txt\"\n",
    "BASE_PATH = \"C:/Users/hecan/Desktop/Project/Benchmark/\"\n",
    "\n",
    "# Read from paths and prepare dataset&dataframes\n",
    "df_attr = pd.read_csv(PATH_ATTR_FILE, skiprows=2, sep='\\s+', names=['image_name'] + ['attr_%d' % i for i in range(1000)])\n",
    "df_attr.replace(-1, 0, inplace=True)\n",
    "\n",
    "df_part = pd.read_csv(PATH_PART_FILE, skiprows=1, sep='\\s+')\n",
    "\n",
    "all_df = pd.merge(df_part, df_attr, on='image_name', how='inner')"
   ]
  },
  {
   "cell_type": "code",
   "execution_count": 8,
   "metadata": {},
   "outputs": [],
   "source": [
    "# Top x most used class filter\n",
    "def filter_data(all_df, r):\n",
    "    # Extract the `attr` columns\n",
    "    attr_columns = [col for col in all_df.columns if col.startswith('attr_')]\n",
    "    attr_df = all_df[attr_columns]\n",
    "\n",
    "    # Convert to numpy array\n",
    "    attr_array = attr_df.values\n",
    "\n",
    "    # Calculate class frequencies\n",
    "    class_counts = np.sum(attr_array, axis=0)\n",
    "\n",
    "    threshold = np.percentile(class_counts, r)\n",
    "    attr_100_list = list()\n",
    "    class_counts_x = list()\n",
    "\n",
    "    for i in range(len(class_counts)):\n",
    "        if class_counts[i] >= threshold:\n",
    "            attr_100_list.append(f\"attr_{i}\")\n",
    "            class_counts_x.append(class_counts[i])\n",
    "\n",
    "    cols = [\"image_name\", \"evaluation_status\"]\n",
    "    cols.extend(attr_100_list)\n",
    "    filtered_df = all_df[cols]\n",
    "    return filtered_df, attr_100_list, class_counts_x\n",
    "\n",
    "filtered_df, attr_100_list, class_counts = filter_data(all_df, 98)"
   ]
  },
  {
   "cell_type": "code",
   "execution_count": 9,
   "metadata": {},
   "outputs": [
    {
     "data": {
      "text/plain": [
       "20"
      ]
     },
     "execution_count": 9,
     "metadata": {},
     "output_type": "execute_result"
    }
   ],
   "source": [
    "len(class_counts)"
   ]
  },
  {
   "cell_type": "code",
   "execution_count": 10,
   "metadata": {},
   "outputs": [
    {
     "name": "stdout",
     "output_type": "stream",
     "text": [
      "Length of test_df:  40000\n",
      "Length of train_df:  209222\n",
      "Length of val_df:  40000\n"
     ]
    }
   ],
   "source": [
    "# Dataset Prepare\n",
    "train_df_und = filtered_df[filtered_df['evaluation_status'] == 'train']\n",
    "test_df_und = filtered_df[filtered_df['evaluation_status'] == 'test']\n",
    "val_df_und = filtered_df[filtered_df['evaluation_status'] == 'val']\n",
    "\n",
    "train_df = train_df_und.drop(columns=['evaluation_status'])\n",
    "test_df = test_df_und.drop(columns=['evaluation_status'])\n",
    "val_df = val_df_und.drop(columns=['evaluation_status'])\n",
    "\n",
    "print(\"Length of test_df: \", len(test_df)) #40k test, rest train\n",
    "print(\"Length of train_df: \", len(train_df)) #40k test, rest train\n",
    "print(\"Length of val_df: \", len(val_df)) #40k test, rest train\n",
    "\n",
    "train_dataset = ImageAttributeDataset(dataframe=train_df, base_path=BASE_PATH, transform=train_transform)\n",
    "test_dataset = ImageAttributeDataset(dataframe=test_df, base_path=BASE_PATH, transform=transform)\n",
    "val_dataset = ImageAttributeDataset(dataframe=val_df, base_path=BASE_PATH, transform=transform)\n",
    "\n",
    "train_loader = DataLoader(train_dataset, batch_size=BATCH_SIZE, shuffle=True)\n",
    "test_loader = DataLoader(test_dataset, batch_size=BATCH_SIZE, shuffle=False)\n",
    "val_loader = DataLoader(val_dataset, batch_size=BATCH_SIZE, shuffle=False)"
   ]
  },
  {
   "cell_type": "code",
   "execution_count": 11,
   "metadata": {},
   "outputs": [],
   "source": [
    "device = torch.device('cuda' if torch.cuda.is_available() else 'cpu')"
   ]
  },
  {
   "cell_type": "code",
   "execution_count": 12,
   "metadata": {},
   "outputs": [
    {
     "name": "stdout",
     "output_type": "stream",
     "text": [
      "20\n"
     ]
    }
   ],
   "source": [
    "# Extract the `attr` columns\n",
    "attr_columns = [col for col in filtered_df.columns if col.startswith('attr_')]\n",
    "attr_df = filtered_df[attr_columns]\n",
    "\n",
    "# Convert to numpy array\n",
    "attr_array = attr_df.values\n",
    "\n",
    "# Calculate class frequencies\n",
    "class_counts = np.sum(attr_array, axis=0)\n",
    "\n",
    "def calculate_pos_weights(class_counts):\n",
    "  pos_weights = np.ones_like(class_counts)\n",
    "  neg_counts = [len(all_df)-pos_count for pos_count in class_counts]\n",
    "  print(len(neg_counts))\n",
    "  for cdx, ccng in enumerate(zip(class_counts,  neg_counts)):\n",
    "    pos_weights[cdx] = ccng[1] / (ccng[0] + 1e-5)\n",
    "\n",
    "  return torch.as_tensor(pos_weights, dtype=torch.float).to(device)\n",
    "\n",
    "weights = calculate_pos_weights(class_counts)"
   ]
  },
  {
   "cell_type": "code",
   "execution_count": 17,
   "metadata": {},
   "outputs": [
    {
     "name": "stdout",
     "output_type": "stream",
     "text": [
      "20\n"
     ]
    }
   ],
   "source": [
    "# Load model\n",
    "model = SiameseModel(timm_model_name=MODEL_NAME)\n",
    "\n",
    "# Assuming optimizer is your optimizer (e.g., Adam)\n",
    "optimizer = torch.optim.Adam(model.parameters(), lr=LR_RATE)\n",
    "\n",
    "# Define the loss function with class weights\n",
    "criterion = nn.BCEWithLogitsLoss(pos_weight=calculate_pos_weights(class_counts))"
   ]
  },
  {
   "cell_type": "code",
   "execution_count": 18,
   "metadata": {},
   "outputs": [
    {
     "name": "stdout",
     "output_type": "stream",
     "text": [
      "Epoch 1/10\n"
     ]
    },
    {
     "name": "stderr",
     "output_type": "stream",
     "text": [
      "100%|██████████| 13077/13077 [21:02<00:00, 10.35batch/s]\n"
     ]
    },
    {
     "name": "stdout",
     "output_type": "stream",
     "text": [
      "Training loss: 0.7493 Validation loss: 0.9243\n",
      "+--------------+-------------+----------+------------+-----------+\n",
      "| type         |   precision |   recall |   f1-score |   support |\n",
      "|--------------+-------------+----------+------------+-----------|\n",
      "| weighted avg |     0.22962 |  0.66204 |    0.32701 |     36389 |\n",
      "| samples avg  |     0.1981  |  0.79911 |    0.23732 |     36389 |\n",
      "| macro avg    |     0.18113 |  0.65055 |    0.27207 |     36389 |\n",
      "| micro avg    |     0.17483 |  0.66204 |    0.27662 |     36389 |\n",
      "+--------------+-------------+----------+------------+-----------+\n",
      "Epoch 2/10\n"
     ]
    },
    {
     "name": "stderr",
     "output_type": "stream",
     "text": [
      "100%|██████████| 13077/13077 [19:26<00:00, 11.21batch/s]\n"
     ]
    },
    {
     "name": "stdout",
     "output_type": "stream",
     "text": [
      "Training loss: 0.7313 Validation loss: 0.8982\n",
      "+--------------+-------------+----------+------------+-----------+\n",
      "| type         |   precision |   recall |   f1-score |   support |\n",
      "|--------------+-------------+----------+------------+-----------|\n",
      "| weighted avg |     0.24679 |  0.66528 |    0.34444 |     36389 |\n",
      "| samples avg  |     0.20521 |  0.8013  |    0.24507 |     36389 |\n",
      "| macro avg    |     0.1953  |  0.65903 |    0.2872  |     36389 |\n",
      "| micro avg    |     0.18384 |  0.66528 |    0.28808 |     36389 |\n",
      "+--------------+-------------+----------+------------+-----------+\n",
      "Epoch 3/10\n"
     ]
    },
    {
     "name": "stderr",
     "output_type": "stream",
     "text": [
      "100%|██████████| 13077/13077 [19:22<00:00, 11.25batch/s]\n"
     ]
    },
    {
     "name": "stdout",
     "output_type": "stream",
     "text": [
      "Training loss: 0.6517 Validation loss: 0.8891\n",
      "+--------------+-------------+----------+------------+-----------+\n",
      "| type         |   precision |   recall |   f1-score |   support |\n",
      "|--------------+-------------+----------+------------+-----------|\n",
      "| weighted avg |     0.25047 |  0.67254 |    0.35096 |     36389 |\n",
      "| samples avg  |     0.22252 |  0.8051  |    0.25861 |     36389 |\n",
      "| macro avg    |     0.20239 |  0.66337 |    0.29765 |     36389 |\n",
      "| micro avg    |     0.19033 |  0.67254 |    0.2967  |     36389 |\n",
      "+--------------+-------------+----------+------------+-----------+\n",
      "Epoch 4/10\n"
     ]
    },
    {
     "name": "stderr",
     "output_type": "stream",
     "text": [
      "100%|██████████| 13077/13077 [19:41<00:00, 11.07batch/s]\n"
     ]
    },
    {
     "name": "stdout",
     "output_type": "stream",
     "text": [
      "Training loss: 0.6632 Validation loss: 0.8901\n",
      "+--------------+-------------+----------+------------+-----------+\n",
      "| type         |   precision |   recall |   f1-score |   support |\n",
      "|--------------+-------------+----------+------------+-----------|\n",
      "| weighted avg |     0.23723 |  0.68922 |    0.34107 |     36389 |\n",
      "| samples avg  |     0.20232 |  0.81731 |    0.24781 |     36389 |\n",
      "| macro avg    |     0.18983 |  0.67889 |    0.28547 |     36389 |\n",
      "| micro avg    |     0.1833  |  0.68922 |    0.28958 |     36389 |\n",
      "+--------------+-------------+----------+------------+-----------+\n",
      "Epoch 5/10\n"
     ]
    },
    {
     "name": "stderr",
     "output_type": "stream",
     "text": [
      "100%|██████████| 13077/13077 [19:20<00:00, 11.27batch/s]\n"
     ]
    },
    {
     "name": "stdout",
     "output_type": "stream",
     "text": [
      "Training loss: 0.6427 Validation loss: 0.8876\n",
      "+--------------+-------------+----------+------------+-----------+\n",
      "| type         |   precision |   recall |   f1-score |   support |\n",
      "|--------------+-------------+----------+------------+-----------|\n",
      "| weighted avg |     0.23662 |  0.69411 |    0.34055 |     36389 |\n",
      "| samples avg  |     0.21291 |  0.81917 |    0.25567 |     36389 |\n",
      "| macro avg    |     0.18857 |  0.68201 |    0.28516 |     36389 |\n",
      "| micro avg    |     0.18514 |  0.69411 |    0.29231 |     36389 |\n",
      "+--------------+-------------+----------+------------+-----------+\n",
      "Epoch 6/10\n"
     ]
    },
    {
     "name": "stderr",
     "output_type": "stream",
     "text": [
      "100%|██████████| 13077/13077 [19:18<00:00, 11.29batch/s]\n"
     ]
    },
    {
     "name": "stdout",
     "output_type": "stream",
     "text": [
      "Training loss: 0.6612 Validation loss: 0.8895\n",
      "+--------------+-------------+----------+------------+-----------+\n",
      "| type         |   precision |   recall |   f1-score |   support |\n",
      "|--------------+-------------+----------+------------+-----------|\n",
      "| weighted avg |     0.23493 |  0.69689 |    0.34158 |     36389 |\n",
      "| samples avg  |     0.22284 |  0.81941 |    0.26364 |     36389 |\n",
      "| macro avg    |     0.19137 |  0.6776  |    0.28921 |     36389 |\n",
      "| micro avg    |     0.19017 |  0.69689 |    0.29881 |     36389 |\n",
      "+--------------+-------------+----------+------------+-----------+\n",
      "Epoch 7/10\n"
     ]
    },
    {
     "name": "stderr",
     "output_type": "stream",
     "text": [
      "100%|██████████| 13077/13077 [19:24<00:00, 11.23batch/s]\n"
     ]
    },
    {
     "name": "stdout",
     "output_type": "stream",
     "text": [
      "Training loss: 0.6419 Validation loss: 0.8960\n",
      "+--------------+-------------+----------+------------+-----------+\n",
      "| type         |   precision |   recall |   f1-score |   support |\n",
      "|--------------+-------------+----------+------------+-----------|\n",
      "| weighted avg |     0.2496  |  0.67474 |    0.34776 |     36389 |\n",
      "| samples avg  |     0.21856 |  0.80946 |    0.25828 |     36389 |\n",
      "| macro avg    |     0.19708 |  0.66734 |    0.29066 |     36389 |\n",
      "| micro avg    |     0.18844 |  0.67474 |    0.29461 |     36389 |\n",
      "+--------------+-------------+----------+------------+-----------+\n",
      "Epoch 8/10\n"
     ]
    },
    {
     "name": "stderr",
     "output_type": "stream",
     "text": [
      "100%|██████████| 13077/13077 [19:32<00:00, 11.16batch/s]\n"
     ]
    },
    {
     "name": "stdout",
     "output_type": "stream",
     "text": [
      "Training loss: 0.6373 Validation loss: 0.8929\n",
      "+--------------+-------------+----------+------------+-----------+\n",
      "| type         |   precision |   recall |   f1-score |   support |\n",
      "|--------------+-------------+----------+------------+-----------|\n",
      "| weighted avg |     0.24658 |  0.68716 |    0.3487  |     36389 |\n",
      "| samples avg  |     0.21374 |  0.81556 |    0.25582 |     36389 |\n",
      "| macro avg    |     0.19677 |  0.6773  |    0.29187 |     36389 |\n",
      "| micro avg    |     0.1878  |  0.68716 |    0.29498 |     36389 |\n",
      "+--------------+-------------+----------+------------+-----------+\n",
      "Epoch 9/10\n"
     ]
    },
    {
     "name": "stderr",
     "output_type": "stream",
     "text": [
      "100%|██████████| 13077/13077 [19:33<00:00, 11.14batch/s]\n"
     ]
    },
    {
     "name": "stdout",
     "output_type": "stream",
     "text": [
      "Training loss: 0.6346 Validation loss: 0.8924\n",
      "+--------------+-------------+----------+------------+-----------+\n",
      "| type         |   precision |   recall |   f1-score |   support |\n",
      "|--------------+-------------+----------+------------+-----------|\n",
      "| weighted avg |     0.24156 |  0.69837 |    0.34555 |     36389 |\n",
      "| samples avg  |     0.21017 |  0.82177 |    0.25467 |     36389 |\n",
      "| macro avg    |     0.19254 |  0.68692 |    0.28903 |     36389 |\n",
      "| micro avg    |     0.18645 |  0.69837 |    0.29432 |     36389 |\n",
      "+--------------+-------------+----------+------------+-----------+\n",
      "Epoch 10/10\n"
     ]
    },
    {
     "name": "stderr",
     "output_type": "stream",
     "text": [
      "100%|██████████| 13077/13077 [19:29<00:00, 11.18batch/s]\n"
     ]
    },
    {
     "name": "stdout",
     "output_type": "stream",
     "text": [
      "Training loss: 0.6257 Validation loss: 0.8994\n",
      "+--------------+-------------+----------+------------+-----------+\n",
      "| type         |   precision |   recall |   f1-score |   support |\n",
      "|--------------+-------------+----------+------------+-----------|\n",
      "| weighted avg |     0.24012 |  0.69724 |    0.3457  |     36389 |\n",
      "| samples avg  |     0.2205  |  0.82107 |    0.26251 |     36389 |\n",
      "| macro avg    |     0.19435 |  0.67931 |    0.29168 |     36389 |\n",
      "| micro avg    |     0.19052 |  0.69724 |    0.29927 |     36389 |\n",
      "+--------------+-------------+----------+------------+-----------+\n",
      "Training complete!\n"
     ]
    }
   ],
   "source": [
    "# Training loop with validation\n",
    "num_epochs = 10\n",
    "model.to(device)\n",
    "\n",
    "# Initialize lists to store true labels and predicted labels for the entire validation set\n",
    "train_losses = []\n",
    "val_losses = []\n",
    "\n",
    "for epoch in range(num_epochs):\n",
    "\n",
    "    model.train()\n",
    "    running_loss = 0.0\n",
    "\n",
    "    print(f\"Epoch {epoch+1}/{num_epochs}\")\n",
    "\n",
    "    # Training phase\n",
    "    with tqdm(train_loader, unit=\"batch\") as t:\n",
    "        for batch_idx, (images, attributes) in enumerate(t):\n",
    "            images, attributes = images.to(device), attributes.to(device)\n",
    "            \n",
    "            optimizer.zero_grad()\n",
    "            \n",
    "            outputs = model(images)\n",
    "            loss = criterion(outputs, attributes.float())\n",
    "            loss.backward()\n",
    "            optimizer.step()\n",
    "            running_loss += loss.item() * attributes.size(0)\n",
    "        \n",
    "        epoch_loss = running_loss / len(train_loader.dataset)\n",
    "        train_losses.append(epoch_loss)\n",
    "    \n",
    "    # Validation phase\n",
    "    model.eval()\n",
    "    val_loss = 0.0\n",
    "\n",
    "    # Initialize lists to store true labels and predicted labels for the entire validation set\n",
    "    true_labels = []\n",
    "    predicted_labels = []\n",
    "\n",
    "    with torch.no_grad():\n",
    "        for images_val, attributes_val in val_loader:\n",
    "            images_val, attributes_val = images_val.to(device), attributes_val.to(device)\n",
    "            val_outputs = model(images_val)\n",
    "            loss = criterion(val_outputs, attributes_val.float())\n",
    "            val_loss += loss.item() * attributes_val.size(0)\n",
    "            \n",
    "            # Convert outputs to binary predictions using a threshold (e.g., 0.5)\n",
    "            predicted = val_outputs > THRESHOLD\n",
    "            \n",
    "            # Convert tensors to numpy arrays\n",
    "            attributes_val_np = attributes_val.cpu().numpy()\n",
    "            predicted_np = predicted.cpu().numpy()\n",
    "            \n",
    "            # Append true labels and predicted labels to the lists\n",
    "            true_labels.extend(attributes_val_np)\n",
    "            predicted_labels.extend(predicted_np)\n",
    "    \n",
    "    val_loss /= len(val_loader.dataset)\n",
    "\n",
    "    val_losses.append(val_loss)\n",
    "    \n",
    "    # Compute confusion matrix\n",
    "    print(f\"Training loss: {loss.item():.4f}\", f\"Validation loss: {val_loss:.4f}\")\n",
    "    d = classification_report(true_labels, predicted_labels, target_names=attr_100_list, output_dict=True, zero_division=1)\n",
    "    df_metrics = metrics_df(d)\n",
    "\n",
    "\n",
    "print(\"Training complete!\")"
   ]
  },
  {
   "cell_type": "code",
   "execution_count": 19,
   "metadata": {},
   "outputs": [
    {
     "data": {
      "image/png": "[encoded data removed]",
      "text/plain": [
       "<Figure size 1000x500 with 1 Axes>"
      ]
     },
     "metadata": {},
     "output_type": "display_data"
    }
   ],
   "source": [
    "plt.figure(figsize=(10, 5))\n",
    "plt.plot(train_losses, label='Training Loss')\n",
    "plt.plot(val_losses, label='Validation Loss')\n",
    "plt.xlabel('Epochs')\n",
    "plt.ylabel('Loss')\n",
    "plt.title('Loss Curves')\n",
    "plt.legend()\n",
    "plt.show()"
   ]
  },
  {
   "cell_type": "code",
   "execution_count": 23,
   "metadata": {},
   "outputs": [
    {
     "name": "stdout",
     "output_type": "stream",
     "text": [
      "+--------------+-------------+----------+------------+-----------+\n",
      "| type         |   precision |   recall |   f1-score |   support |\n",
      "|--------------+-------------+----------+------------+-----------|\n",
      "| weighted avg |     0.23644 |  0.69301 |    0.34112 |     36128 |\n",
      "| samples avg  |     0.22051 |  0.81942 |    0.26126 |     36128 |\n",
      "| macro avg    |     0.19131 |  0.67724 |    0.28804 |     36128 |\n",
      "| micro avg    |     0.18809 |  0.69301 |    0.29587 |     36128 |\n",
      "+--------------+-------------+----------+------------+-----------+\n",
      "0.8919597115635872\n"
     ]
    }
   ],
   "source": [
    "# Initialize lists to store true labels and predicted labels for the entire validation set\n",
    "true_labels = []\n",
    "predicted_labels = []\n",
    "\n",
    "# Validation phase\n",
    "model.eval()\n",
    "loss = 0.0\n",
    "with torch.no_grad():\n",
    "    for images_test, attributes_test in test_loader:\n",
    "        images_test, attributes_test = images_test.to(device), attributes_test.to(device)\n",
    "        test_outputs = model(images_test)\n",
    "        test_loss = criterion(test_outputs, attributes_test.float())\n",
    "        loss += test_loss.item()\n",
    "        \n",
    "        # Convert outputs to binary predictions using a threshold (e.g., 0.5)\n",
    "        predicted = test_outputs > THRESHOLD\n",
    "        \n",
    "        # Convert tensors to numpy arrays\n",
    "        attributes_test_np = attributes_test.cpu().numpy()\n",
    "        predicted_np = predicted.cpu().numpy()\n",
    "        \n",
    "        # Append true labels and predicted labels to the lists\n",
    "        true_labels.extend(attributes_test_np)\n",
    "        predicted_labels.extend(predicted_np)\n",
    "\n",
    "loss /= len(test_loader)\n",
    "\n",
    "# Compute confusion matrix\n",
    "d = classification_report(true_labels, predicted_labels, target_names=attr_100_list, output_dict=True, zero_division=1)\n",
    "df_metrics = metrics_df(d)\n",
    "print(loss)"
   ]
  }
 ],
 "metadata": {
  "kernelspec": {
   "display_name": "Python 3",
   "language": "python",
   "name": "python3"
  },
  "language_info": {
   "codemirror_mode": {
    "name": "ipython",
    "version": 3
   },
   "file_extension": ".py",
   "mimetype": "text/x-python",
   "name": "python",
   "nbconvert_exporter": "python",
   "pygments_lexer": "ipython3",
   "version": "3.11.4"
  },
  "orig_nbformat": 4
 },
 "nbformat": 4,
 "nbformat_minor": 2
}
