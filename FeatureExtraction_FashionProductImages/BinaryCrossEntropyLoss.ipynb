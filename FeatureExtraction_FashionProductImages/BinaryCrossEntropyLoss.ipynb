{
 "cells": [
  {
   "cell_type": "code",
   "execution_count": 1,
   "metadata": {},
   "outputs": [
    {
     "name": "stderr",
     "output_type": "stream",
     "text": [
      "c:\\Users\\hecan\\AppData\\Local\\Programs\\Python\\Python311\\Lib\\site-packages\\tqdm\\auto.py:21: TqdmWarning: IProgress not found. Please update jupyter and ipywidgets. See https://ipywidgets.readthedocs.io/en/stable/user_install.html\n",
      "  from .autonotebook import tqdm as notebook_tqdm\n"
     ]
    }
   ],
   "source": [
    "# Necessary imports\n",
    "from tabulate import tabulate\n",
    "import torch\n",
    "import torch.nn as nn\n",
    "from torch.utils.data import DataLoader, Dataset\n",
    "import timm\n",
    "import torchvision.transforms as transforms\n",
    "import pandas as pd\n",
    "from PIL import Image\n",
    "import numpy as np\n",
    "from sklearn.metrics import classification_report\n",
    "from tqdm import tqdm\n",
    "from matplotlib import pyplot as plt\n"
   ]
  },
  {
   "cell_type": "code",
   "execution_count": 2,
   "metadata": {},
   "outputs": [],
   "source": [
    "# Constants\n",
    "BATCH_SIZE = 16\n",
    "LR_RATE = 0.001\n",
    "MODEL_NAME = 'vit_small_patch32_224.augreg_in21k_ft_in1k'\n",
    "THRESHOLD = 0.5\n",
    "NUM_LABELS = 170 #########"
   ]
  },
  {
   "cell_type": "code",
   "execution_count": 3,
   "metadata": {},
   "outputs": [],
   "source": [
    "# Model\n",
    "class SiameseModel(nn.Module):\n",
    "    def __init__(self, timm_model_name):\n",
    "        super(SiameseModel, self).__init__()\n",
    "        model = timm.create_model(timm_model_name, pretrained=True)\n",
    "        self.cnn_model = timm.create_model(timm_model_name, pretrained=True)\n",
    "\n",
    "        for param in self.cnn_model.parameters(): # Freeze all the layers of the backbone\n",
    "            param.requires_grad = False\n",
    "\n",
    "        self.num_features = self.cnn_model.num_features  # Extract number of features from the model\n",
    "        self.cnn_model.reset_classifier(num_classes=0)  # Remove the final classifier layer\n",
    "        \n",
    "        self.D1 = nn.Linear(self.num_features, 512)\n",
    "        self.BN_1 = nn.BatchNorm1d(512)\n",
    "        self.D2 = nn.Linear(512, 128)\n",
    "        self.BN_2 = nn.BatchNorm1d(128)\n",
    "        self.out = nn.Linear(128, NUM_LABELS)  # Output 1000-long boolean vector\n",
    "    \n",
    "    def forward(self, x):\n",
    "        x = self.cnn_model(x)\n",
    "        x = x.view(x.size(0), -1)\n",
    "        \n",
    "        x = self.D1(x)\n",
    "        x = self.BN_1(x)\n",
    "        x = nn.functional.leaky_relu(x)\n",
    "        \n",
    "        x = self.D2(x)\n",
    "        x = self.BN_2(x)\n",
    "        x = nn.functional.leaky_relu(x)\n",
    "        \n",
    "        out = self.out(x)\n",
    "        \n",
    "        # Apply sigmoid activation to produce boolean values\n",
    "        out = torch.sigmoid(out)\n",
    "        \n",
    "        return out\n"
   ]
  },
  {
   "cell_type": "code",
   "execution_count": 4,
   "metadata": {},
   "outputs": [],
   "source": [
    "# Dataset class for image and 1000 length attribute vector.\n",
    "class ImageAttributeDataset(Dataset):\n",
    "    def __init__(self, dataframe, base_path, transform=None):\n",
    "        self.dataframe = dataframe\n",
    "        self.base_path = base_path\n",
    "        self.transform = transform\n",
    "    \n",
    "    def __len__(self):\n",
    "        return len(self.dataframe)\n",
    "    \n",
    "    def __getitem__(self, idx):\n",
    "        img_name = self.dataframe.iloc[idx]['image_name']\n",
    "        img_path = self.base_path + img_name  # Concatenate base path with image name\n",
    "        attribute_vector = self.dataframe.iloc[idx][1:].values.astype('float64')\n",
    "        \n",
    "        # Load image from file\n",
    "        img = Image.open(img_path).convert('RGB')\n",
    "        \n",
    "        # Apply transformations if specified\n",
    "        if self.transform:\n",
    "            img = self.transform(img)\n",
    "        \n",
    "        # Convert attribute vector to tensor\n",
    "        attribute_tensor = torch.tensor(attribute_vector, dtype=torch.float32)\n",
    "        attribute_tensor = attribute_tensor.type(torch.LongTensor)\n",
    "        \n",
    "        return img, attribute_tensor"
   ]
  },
  {
   "cell_type": "code",
   "execution_count": 5,
   "metadata": {},
   "outputs": [],
   "source": [
    "# Define transforms\n",
    "transform = transforms.Compose([\n",
    "    transforms.Resize((224, 224)),\n",
    "    transforms.ToTensor(),\n",
    "])\n",
    "\n",
    "train_transform = transforms.Compose([\n",
    "    transforms.Resize((224, 224)),\n",
    "    transforms.RandomHorizontalFlip(),\n",
    "    transforms.ColorJitter(brightness=0.2, saturation=0.5),\n",
    "    transforms.ToTensor()\n",
    "])"
   ]
  },
  {
   "cell_type": "code",
   "execution_count": 6,
   "metadata": {},
   "outputs": [],
   "source": [
    "# Multilabel conf matrix\n",
    "def metrics_df(data):\n",
    "    df = pd.DataFrame(columns=[\"type\", \"precision\", \"recall\", 'f1-score', 'support'])\n",
    "    metrics = ['micro avg', 'macro avg', 'samples avg', 'weighted avg']\n",
    "\n",
    "    for metric in metrics:\n",
    "        precision = data[metric]['precision']\n",
    "        recall = data[metric]['recall']\n",
    "        f1_score = data[metric]['f1-score']\n",
    "        support = data[metric]['support']\n",
    "\n",
    "        df.loc[-1] = [metric, \"%.5f\" %precision, \"%.5f\" %recall, \"%.5f\" %f1_score, \"%d\" %support]  # adding a row\n",
    "        df.index = df.index + 1  # shifting index\n",
    "        df = df.sort_index()  # sorting by index\n",
    "    \n",
    "    df_no = df.reset_index(drop=True)\n",
    "\n",
    "    print(tabulate(df_no, headers='keys', tablefmt='psql', showindex=False))\n",
    "\n",
    "    return df"
   ]
  },
  {
   "cell_type": "code",
   "execution_count": 7,
   "metadata": {},
   "outputs": [
    {
     "data": {
      "text/html": [
       "<div>\n",
       "<style scoped>\n",
       "    .dataframe tbody tr th:only-of-type {\n",
       "        vertical-align: middle;\n",
       "    }\n",
       "\n",
       "    .dataframe tbody tr th {\n",
       "        vertical-align: top;\n",
       "    }\n",
       "\n",
       "    .dataframe thead th {\n",
       "        text-align: right;\n",
       "    }\n",
       "</style>\n",
       "<table border=\"1\" class=\"dataframe\">\n",
       "  <thead>\n",
       "    <tr style=\"text-align: right;\">\n",
       "      <th></th>\n",
       "      <th>image_name</th>\n",
       "      <th>evaluation_status</th>\n",
       "      <th>attr_0</th>\n",
       "      <th>attr_1</th>\n",
       "      <th>attr_2</th>\n",
       "      <th>attr_3</th>\n",
       "      <th>attr_4</th>\n",
       "      <th>attr_5</th>\n",
       "      <th>attr_6</th>\n",
       "      <th>attr_7</th>\n",
       "      <th>...</th>\n",
       "      <th>attr_160</th>\n",
       "      <th>attr_161</th>\n",
       "      <th>attr_162</th>\n",
       "      <th>attr_163</th>\n",
       "      <th>attr_164</th>\n",
       "      <th>attr_165</th>\n",
       "      <th>attr_166</th>\n",
       "      <th>attr_167</th>\n",
       "      <th>attr_168</th>\n",
       "      <th>attr_169</th>\n",
       "    </tr>\n",
       "  </thead>\n",
       "  <tbody>\n",
       "    <tr>\n",
       "      <th>0</th>\n",
       "      <td>img/27206.jpg</td>\n",
       "      <td>train</td>\n",
       "      <td>1</td>\n",
       "      <td>0</td>\n",
       "      <td>0</td>\n",
       "      <td>0</td>\n",
       "      <td>0</td>\n",
       "      <td>0</td>\n",
       "      <td>0</td>\n",
       "      <td>0</td>\n",
       "      <td>...</td>\n",
       "      <td>1</td>\n",
       "      <td>0</td>\n",
       "      <td>0</td>\n",
       "      <td>1</td>\n",
       "      <td>0</td>\n",
       "      <td>0</td>\n",
       "      <td>0</td>\n",
       "      <td>0</td>\n",
       "      <td>0</td>\n",
       "      <td>0</td>\n",
       "    </tr>\n",
       "    <tr>\n",
       "      <th>1</th>\n",
       "      <td>img/54596.jpg</td>\n",
       "      <td>train</td>\n",
       "      <td>0</td>\n",
       "      <td>1</td>\n",
       "      <td>0</td>\n",
       "      <td>0</td>\n",
       "      <td>0</td>\n",
       "      <td>0</td>\n",
       "      <td>0</td>\n",
       "      <td>0</td>\n",
       "      <td>...</td>\n",
       "      <td>1</td>\n",
       "      <td>0</td>\n",
       "      <td>0</td>\n",
       "      <td>0</td>\n",
       "      <td>1</td>\n",
       "      <td>0</td>\n",
       "      <td>0</td>\n",
       "      <td>0</td>\n",
       "      <td>0</td>\n",
       "      <td>0</td>\n",
       "    </tr>\n",
       "    <tr>\n",
       "      <th>2</th>\n",
       "      <td>img/45589.jpg</td>\n",
       "      <td>train</td>\n",
       "      <td>1</td>\n",
       "      <td>0</td>\n",
       "      <td>0</td>\n",
       "      <td>0</td>\n",
       "      <td>0</td>\n",
       "      <td>0</td>\n",
       "      <td>0</td>\n",
       "      <td>0</td>\n",
       "      <td>...</td>\n",
       "      <td>1</td>\n",
       "      <td>0</td>\n",
       "      <td>0</td>\n",
       "      <td>0</td>\n",
       "      <td>0</td>\n",
       "      <td>1</td>\n",
       "      <td>0</td>\n",
       "      <td>0</td>\n",
       "      <td>0</td>\n",
       "      <td>0</td>\n",
       "    </tr>\n",
       "    <tr>\n",
       "      <th>3</th>\n",
       "      <td>img/39607.jpg</td>\n",
       "      <td>train</td>\n",
       "      <td>0</td>\n",
       "      <td>1</td>\n",
       "      <td>0</td>\n",
       "      <td>0</td>\n",
       "      <td>0</td>\n",
       "      <td>0</td>\n",
       "      <td>0</td>\n",
       "      <td>0</td>\n",
       "      <td>...</td>\n",
       "      <td>0</td>\n",
       "      <td>1</td>\n",
       "      <td>0</td>\n",
       "      <td>1</td>\n",
       "      <td>0</td>\n",
       "      <td>0</td>\n",
       "      <td>0</td>\n",
       "      <td>0</td>\n",
       "      <td>0</td>\n",
       "      <td>0</td>\n",
       "    </tr>\n",
       "    <tr>\n",
       "      <th>4</th>\n",
       "      <td>img/22637.jpg</td>\n",
       "      <td>train</td>\n",
       "      <td>0</td>\n",
       "      <td>0</td>\n",
       "      <td>1</td>\n",
       "      <td>0</td>\n",
       "      <td>0</td>\n",
       "      <td>0</td>\n",
       "      <td>0</td>\n",
       "      <td>0</td>\n",
       "      <td>...</td>\n",
       "      <td>0</td>\n",
       "      <td>0</td>\n",
       "      <td>0</td>\n",
       "      <td>1</td>\n",
       "      <td>0</td>\n",
       "      <td>0</td>\n",
       "      <td>0</td>\n",
       "      <td>0</td>\n",
       "      <td>0</td>\n",
       "      <td>0</td>\n",
       "    </tr>\n",
       "  </tbody>\n",
       "</table>\n",
       "<p>5 rows × 172 columns</p>\n",
       "</div>"
      ],
      "text/plain": [
       "      image_name evaluation_status  attr_0  attr_1  attr_2  attr_3  attr_4  \\\n",
       "0  img/27206.jpg             train       1       0       0       0       0   \n",
       "1  img/54596.jpg             train       0       1       0       0       0   \n",
       "2  img/45589.jpg             train       1       0       0       0       0   \n",
       "3  img/39607.jpg             train       0       1       0       0       0   \n",
       "4  img/22637.jpg             train       0       0       1       0       0   \n",
       "\n",
       "   attr_5  attr_6  attr_7  ...  attr_160  attr_161  attr_162  attr_163  \\\n",
       "0       0       0       0  ...         1         0         0         1   \n",
       "1       0       0       0  ...         1         0         0         0   \n",
       "2       0       0       0  ...         1         0         0         0   \n",
       "3       0       0       0  ...         0         1         0         1   \n",
       "4       0       0       0  ...         0         0         0         1   \n",
       "\n",
       "   attr_164  attr_165  attr_166  attr_167  attr_168  attr_169  \n",
       "0         0         0         0         0         0         0  \n",
       "1         1         0         0         0         0         0  \n",
       "2         0         1         0         0         0         0  \n",
       "3         0         0         0         0         0         0  \n",
       "4         0         0         0         0         0         0  \n",
       "\n",
       "[5 rows x 172 columns]"
      ]
     },
     "execution_count": 7,
     "metadata": {},
     "output_type": "execute_result"
    }
   ],
   "source": [
    "# Exact Paths\n",
    "PATH_ATTR_FILE = \"C:/Users/hecan/Desktop/Project/Benchmark/Anno/list_attr_img.txt\"\n",
    "PATH_PART_FILE = \"C:/Users/hecan/Desktop/Project/Benchmark/Eval/list_eval_partition.txt\"\n",
    "BASE_PATH = \"C:/Users/hecan/Desktop/Project/new/\"\n",
    "DATAFRAME_PATH = BASE_PATH + \"dataframe.csv\"\n",
    "\n",
    "all_df = pd.read_csv('all.csv')\n",
    "all_df.head()"
   ]
  },
  {
   "cell_type": "code",
   "execution_count": 8,
   "metadata": {},
   "outputs": [],
   "source": [
    "# Top x most used class filter\n",
    "def filter_data(all_df, r):\n",
    "    # Extract the `attr` columns\n",
    "    attr_columns = [col for col in all_df.columns if col.startswith('attr_')]\n",
    "    attr_df = all_df[attr_columns]\n",
    "\n",
    "    # Convert to numpy array\n",
    "    attr_array = attr_df.values\n",
    "\n",
    "    # Calculate class frequencies\n",
    "    class_counts = np.sum(attr_array, axis=0)\n",
    "\n",
    "    threshold = np.percentile(class_counts, r)\n",
    "    attr_100_list = list()\n",
    "    class_counts_x = list()\n",
    "\n",
    "    for i in range(len(class_counts)):\n",
    "        if class_counts[i] >= threshold:\n",
    "            attr_100_list.append(f\"attr_{i}\")\n",
    "            class_counts_x.append(class_counts[i])\n",
    "\n",
    "    cols = [\"image_name\", \"evaluation_status\"]\n",
    "    cols.extend(attr_100_list)\n",
    "    filtered_df = all_df[cols]\n",
    "    return filtered_df, attr_100_list, class_counts_x\n",
    "\n",
    "filtered_df, attr_100_list, class_counts = filter_data(all_df, 0)"
   ]
  },
  {
   "cell_type": "code",
   "execution_count": 9,
   "metadata": {},
   "outputs": [
    {
     "data": {
      "text/plain": [
       "170"
      ]
     },
     "execution_count": 9,
     "metadata": {},
     "output_type": "execute_result"
    }
   ],
   "source": [
    "len(class_counts)"
   ]
  },
  {
   "cell_type": "code",
   "execution_count": 10,
   "metadata": {},
   "outputs": [
    {
     "name": "stdout",
     "output_type": "stream",
     "text": [
      "Length of test_df:  8378\n",
      "Length of train_df:  33507\n"
     ]
    }
   ],
   "source": [
    "# Dataset Prepare\n",
    "train_df_und = all_df[all_df['evaluation_status'] == 'train']\n",
    "test_df_und = all_df[all_df['evaluation_status'] == 'test']\n",
    "\n",
    "train_df = train_df_und.drop(columns=['evaluation_status'])\n",
    "test_df = test_df_und.drop(columns=['evaluation_status'])\n",
    "\n",
    "print(\"Length of test_df: \", len(test_df)) #40k test, rest train\n",
    "print(\"Length of train_df: \", len(train_df)) #40k test, rest train\n",
    "\n",
    "train_dataset = ImageAttributeDataset(dataframe=train_df, base_path=BASE_PATH, transform=train_transform)\n",
    "test_dataset = ImageAttributeDataset(dataframe=test_df, base_path=BASE_PATH, transform=transform)\n",
    "\n",
    "train_loader = DataLoader(train_dataset, batch_size=BATCH_SIZE, shuffle=True)\n",
    "test_loader = DataLoader(test_dataset, batch_size=BATCH_SIZE, shuffle=False)"
   ]
  },
  {
   "cell_type": "code",
   "execution_count": 11,
   "metadata": {},
   "outputs": [
    {
     "name": "stdout",
     "output_type": "stream",
     "text": [
      "cuda\n"
     ]
    }
   ],
   "source": [
    "device = torch.device('cuda' if torch.cuda.is_available() else 'cpu')\n",
    "print(device)"
   ]
  },
  {
   "cell_type": "code",
   "execution_count": 12,
   "metadata": {},
   "outputs": [
    {
     "name": "stdout",
     "output_type": "stream",
     "text": [
      "170\n"
     ]
    }
   ],
   "source": [
    "# Extract the `attr` columns\n",
    "attr_columns = [col for col in filtered_df.columns if col.startswith('attr_')]\n",
    "attr_df = filtered_df[attr_columns]\n",
    "\n",
    "# Convert to numpy array\n",
    "attr_array = attr_df.values\n",
    "\n",
    "# Calculate class frequencies\n",
    "class_counts = np.sum(attr_array, axis=0)\n",
    "\n",
    "def calculate_pos_weights(class_counts):\n",
    "  pos_weights = np.ones_like(class_counts)\n",
    "  neg_counts = [len(all_df)-pos_count for pos_count in class_counts]\n",
    "  print(len(neg_counts))\n",
    "  for cdx, ccng in enumerate(zip(class_counts,  neg_counts)):\n",
    "    pos_weights[cdx] = ccng[1] / (ccng[0] + 1e-5)\n",
    "\n",
    "  return torch.as_tensor(pos_weights, dtype=torch.float).to(device)\n",
    "\n",
    "weights = calculate_pos_weights(class_counts)"
   ]
  },
  {
   "cell_type": "code",
   "execution_count": 13,
   "metadata": {},
   "outputs": [],
   "source": [
    "# Load model\n",
    "model = SiameseModel(timm_model_name=MODEL_NAME)\n",
    "\n",
    "# Assuming optimizer is your optimizer (e.g., Adam)\n",
    "optimizer = torch.optim.Adam(model.parameters(), lr=LR_RATE)\n",
    "\n",
    "# Define the loss function with class weights\n",
    "criterion = nn.BCELoss()"
   ]
  },
  {
   "cell_type": "code",
   "execution_count": 14,
   "metadata": {},
   "outputs": [
    {
     "name": "stdout",
     "output_type": "stream",
     "text": [
      "Epoch 1/10\n"
     ]
    },
    {
     "name": "stderr",
     "output_type": "stream",
     "text": [
      "  0%|          | 0/2095 [00:00<?, ?batch/s]c:\\Users\\hecan\\AppData\\Local\\Programs\\Python\\Python311\\Lib\\site-packages\\timm\\models\\vision_transformer.py:91: UserWarning: 1Torch was not compiled with flash attention. (Triggered internally at ..\\aten\\src\\ATen\\native\\transformers\\cuda\\sdp_utils.cpp:455.)\n",
      "  x = F.scaled_dot_product_attention(\n",
      "100%|██████████| 2095/2095 [20:21<00:00,  1.72batch/s]\n"
     ]
    },
    {
     "name": "stdout",
     "output_type": "stream",
     "text": [
      "Training loss: 0.0313 Validation loss: 0.0334\n",
      "+--------------+-------------+----------+------------+-----------+\n",
      "| type         |   precision |   recall |   f1-score |   support |\n",
      "|--------------+-------------+----------+------------+-----------|\n",
      "| weighted avg |     0.83131 |  0.72125 |    0.73616 |     41869 |\n",
      "| samples avg  |     0.83227 |  0.72107 |    0.76512 |     41869 |\n",
      "| macro avg    |     0.91404 |  0.31978 |    0.33561 |     41869 |\n",
      "| micro avg    |     0.829   |  0.72125 |    0.77138 |     41869 |\n",
      "+--------------+-------------+----------+------------+-----------+\n",
      "Epoch 2/10\n"
     ]
    },
    {
     "name": "stderr",
     "output_type": "stream",
     "text": [
      "100%|██████████| 2095/2095 [17:11<00:00,  2.03batch/s]\n"
     ]
    },
    {
     "name": "stdout",
     "output_type": "stream",
     "text": [
      "Training loss: 0.0280 Validation loss: 0.0310\n",
      "+--------------+-------------+----------+------------+-----------+\n",
      "| type         |   precision |   recall |   f1-score |   support |\n",
      "|--------------+-------------+----------+------------+-----------|\n",
      "| weighted avg |     0.8233  |  0.74454 |    0.76097 |     41869 |\n",
      "| samples avg  |     0.83818 |  0.7444  |    0.78204 |     41869 |\n",
      "| macro avg    |     0.86176 |  0.3803  |    0.39967 |     41869 |\n",
      "| micro avg    |     0.83444 |  0.74454 |    0.78693 |     41869 |\n",
      "+--------------+-------------+----------+------------+-----------+\n",
      "Epoch 3/10\n"
     ]
    },
    {
     "name": "stderr",
     "output_type": "stream",
     "text": [
      "100%|██████████| 2095/2095 [17:26<00:00,  2.00batch/s]\n"
     ]
    },
    {
     "name": "stdout",
     "output_type": "stream",
     "text": [
      "Training loss: 0.0276 Validation loss: 0.0299\n",
      "+--------------+-------------+----------+------------+-----------+\n",
      "| type         |   precision |   recall |   f1-score |   support |\n",
      "|--------------+-------------+----------+------------+-----------|\n",
      "| weighted avg |     0.83115 |  0.74189 |    0.76696 |     41869 |\n",
      "| samples avg  |     0.84705 |  0.74175 |    0.78421 |     41869 |\n",
      "| macro avg    |     0.84659 |  0.42736 |    0.44533 |     41869 |\n",
      "| micro avg    |     0.84256 |  0.74189 |    0.78903 |     41869 |\n",
      "+--------------+-------------+----------+------------+-----------+\n",
      "Epoch 4/10\n"
     ]
    },
    {
     "name": "stderr",
     "output_type": "stream",
     "text": [
      "100%|██████████| 2095/2095 [17:06<00:00,  2.04batch/s]\n"
     ]
    },
    {
     "name": "stdout",
     "output_type": "stream",
     "text": [
      "Training loss: 0.0239 Validation loss: 0.0291\n",
      "+--------------+-------------+----------+------------+-----------+\n",
      "| type         |   precision |   recall |   f1-score |   support |\n",
      "|--------------+-------------+----------+------------+-----------|\n",
      "| weighted avg |     0.82985 |  0.75913 |    0.77612 |     41869 |\n",
      "| samples avg  |     0.8443  |  0.75897 |    0.79299 |     41869 |\n",
      "| macro avg    |     0.85421 |  0.44305 |    0.46542 |     41869 |\n",
      "| micro avg    |     0.83907 |  0.75913 |    0.7971  |     41869 |\n",
      "+--------------+-------------+----------+------------+-----------+\n",
      "Epoch 5/10\n"
     ]
    },
    {
     "name": "stderr",
     "output_type": "stream",
     "text": [
      "100%|██████████| 2095/2095 [16:54<00:00,  2.06batch/s]\n"
     ]
    },
    {
     "name": "stdout",
     "output_type": "stream",
     "text": [
      "Training loss: 0.0261 Validation loss: 0.0284\n",
      "+--------------+-------------+----------+------------+-----------+\n",
      "| type         |   precision |   recall |   f1-score |   support |\n",
      "|--------------+-------------+----------+------------+-----------|\n",
      "| weighted avg |     0.8304  |  0.77248 |    0.78312 |     41869 |\n",
      "| samples avg  |     0.84255 |  0.77236 |    0.80026 |     41869 |\n",
      "| macro avg    |     0.81708 |  0.48157 |    0.49373 |     41869 |\n",
      "| micro avg    |     0.83855 |  0.77248 |    0.80416 |     41869 |\n",
      "+--------------+-------------+----------+------------+-----------+\n",
      "Epoch 6/10\n"
     ]
    },
    {
     "name": "stderr",
     "output_type": "stream",
     "text": [
      "100%|██████████| 2095/2095 [17:05<00:00,  2.04batch/s]\n"
     ]
    },
    {
     "name": "stdout",
     "output_type": "stream",
     "text": [
      "Training loss: 0.0241 Validation loss: 0.0282\n",
      "+--------------+-------------+----------+------------+-----------+\n",
      "| type         |   precision |   recall |   f1-score |   support |\n",
      "|--------------+-------------+----------+------------+-----------|\n",
      "| weighted avg |     0.83676 |  0.76875 |    0.78808 |     41869 |\n",
      "| samples avg  |     0.85085 |  0.76863 |    0.8014  |     41869 |\n",
      "| macro avg    |     0.79495 |  0.50894 |    0.50539 |     41869 |\n",
      "| micro avg    |     0.84634 |  0.76875 |    0.80568 |     41869 |\n",
      "+--------------+-------------+----------+------------+-----------+\n",
      "Epoch 7/10\n"
     ]
    },
    {
     "name": "stderr",
     "output_type": "stream",
     "text": [
      "100%|██████████| 2095/2095 [17:00<00:00,  2.05batch/s]\n"
     ]
    },
    {
     "name": "stdout",
     "output_type": "stream",
     "text": [
      "Training loss: 0.0240 Validation loss: 0.0281\n",
      "+--------------+-------------+----------+------------+-----------+\n",
      "| type         |   precision |   recall |   f1-score |   support |\n",
      "|--------------+-------------+----------+------------+-----------|\n",
      "| weighted avg |     0.83326 |  0.77033 |    0.78886 |     41869 |\n",
      "| samples avg  |     0.84717 |  0.77022 |    0.80096 |     41869 |\n",
      "| macro avg    |     0.82044 |  0.49791 |    0.51438 |     41869 |\n",
      "| micro avg    |     0.84322 |  0.77033 |    0.80513 |     41869 |\n",
      "+--------------+-------------+----------+------------+-----------+\n",
      "Epoch 8/10\n"
     ]
    },
    {
     "name": "stderr",
     "output_type": "stream",
     "text": [
      "100%|██████████| 2095/2095 [17:01<00:00,  2.05batch/s]\n"
     ]
    },
    {
     "name": "stdout",
     "output_type": "stream",
     "text": [
      "Training loss: 0.0215 Validation loss: 0.0278\n",
      "+--------------+-------------+----------+------------+-----------+\n",
      "| type         |   precision |   recall |   f1-score |   support |\n",
      "|--------------+-------------+----------+------------+-----------|\n",
      "| weighted avg |     0.83217 |  0.7816  |    0.79379 |     41869 |\n",
      "| samples avg  |     0.84562 |  0.78147 |    0.80698 |     41869 |\n",
      "| macro avg    |     0.79346 |  0.51808 |    0.51939 |     41869 |\n",
      "| micro avg    |     0.84094 |  0.7816  |    0.81019 |     41869 |\n",
      "+--------------+-------------+----------+------------+-----------+\n",
      "Epoch 9/10\n"
     ]
    },
    {
     "name": "stderr",
     "output_type": "stream",
     "text": [
      "100%|██████████| 2095/2095 [16:59<00:00,  2.05batch/s]\n"
     ]
    },
    {
     "name": "stdout",
     "output_type": "stream",
     "text": [
      "Training loss: 0.0216 Validation loss: 0.0277\n",
      "+--------------+-------------+----------+------------+-----------+\n",
      "| type         |   precision |   recall |   f1-score |   support |\n",
      "|--------------+-------------+----------+------------+-----------|\n",
      "| weighted avg |     0.83166 |  0.77542 |    0.79387 |     41869 |\n",
      "| samples avg  |     0.84847 |  0.77531 |    0.80437 |     41869 |\n",
      "| macro avg    |     0.75074 |  0.52585 |    0.52899 |     41869 |\n",
      "| micro avg    |     0.84419 |  0.77542 |    0.80835 |     41869 |\n",
      "+--------------+-------------+----------+------------+-----------+\n",
      "Epoch 10/10\n"
     ]
    },
    {
     "name": "stderr",
     "output_type": "stream",
     "text": [
      "100%|██████████| 2095/2095 [16:54<00:00,  2.07batch/s]\n"
     ]
    },
    {
     "name": "stdout",
     "output_type": "stream",
     "text": [
      "Training loss: 0.0234 Validation loss: 0.0279\n",
      "+--------------+-------------+----------+------------+-----------+\n",
      "| type         |   precision |   recall |   f1-score |   support |\n",
      "|--------------+-------------+----------+------------+-----------|\n",
      "| weighted avg |     0.83086 |  0.78256 |    0.79646 |     41869 |\n",
      "| samples avg  |     0.84343 |  0.78245 |    0.80626 |     41869 |\n",
      "| macro avg    |     0.74778 |  0.53819 |    0.53077 |     41869 |\n",
      "| micro avg    |     0.83875 |  0.78256 |    0.80968 |     41869 |\n",
      "+--------------+-------------+----------+------------+-----------+\n",
      "Training complete!\n"
     ]
    }
   ],
   "source": [
    "# Training loop with validation\n",
    "num_epochs = 10\n",
    "model.to(device)\n",
    "\n",
    "# Initialize lists to store true labels and predicted labels for the entire validation set\n",
    "train_losses = []\n",
    "val_losses = []\n",
    "\n",
    "for epoch in range(num_epochs):\n",
    "\n",
    "    model.train()\n",
    "    running_loss = 0.0\n",
    "\n",
    "    print(f\"Epoch {epoch+1}/{num_epochs}\")\n",
    "\n",
    "    # Training phase\n",
    "    with tqdm(train_loader, unit=\"batch\") as t:\n",
    "        for batch_idx, (images, attributes) in enumerate(t):\n",
    "            images, attributes = images.to(device), attributes.to(device)\n",
    "            \n",
    "            optimizer.zero_grad()\n",
    "            \n",
    "            outputs = model(images)\n",
    "            loss = criterion(outputs, attributes.float())\n",
    "            loss.backward()\n",
    "            optimizer.step()\n",
    "            running_loss += loss.item() * attributes.size(0)\n",
    "        \n",
    "        epoch_loss = running_loss / len(train_loader.dataset)\n",
    "        train_losses.append(epoch_loss)\n",
    "    \n",
    "    # Validation phase\n",
    "    model.eval()\n",
    "    val_loss = 0.0\n",
    "\n",
    "    # Initialize lists to store true labels and predicted labels for the entire validation set\n",
    "    true_labels = []\n",
    "    predicted_labels = []\n",
    "\n",
    "    with torch.no_grad():\n",
    "        for images_val, attributes_val in test_loader:\n",
    "            images_val, attributes_val = images_val.to(device), attributes_val.to(device)\n",
    "            val_outputs = model(images_val)\n",
    "            loss = criterion(val_outputs, attributes_val.float())\n",
    "            val_loss += loss.item() * attributes_val.size(0)\n",
    "            \n",
    "            # Convert outputs to binary predictions using a threshold (e.g., 0.5)\n",
    "            predicted = val_outputs > THRESHOLD\n",
    "            \n",
    "            # Convert tensors to numpy arrays\n",
    "            attributes_val_np = attributes_val.cpu().numpy()\n",
    "            predicted_np = predicted.cpu().numpy()\n",
    "            \n",
    "            # Append true labels and predicted labels to the lists\n",
    "            true_labels.extend(attributes_val_np)\n",
    "            predicted_labels.extend(predicted_np)\n",
    "    \n",
    "    val_loss /= len(test_loader.dataset)\n",
    "\n",
    "    val_losses.append(val_loss)\n",
    "    \n",
    "    # Compute confusion matrix\n",
    "    print(f\"Training loss: {loss.item():.4f}\", f\"Validation loss: {val_loss:.4f}\")\n",
    "    d = classification_report(true_labels, predicted_labels, target_names=attr_100_list, output_dict=True, zero_division=1)\n",
    "    df_metrics = metrics_df(d)\n",
    "\n",
    "\n",
    "print(\"Training complete!\")"
   ]
  },
  {
   "cell_type": "code",
   "execution_count": 15,
   "metadata": {},
   "outputs": [],
   "source": [
    "torch.save(model.state_dict(), 'bce_model_v2.pth')"
   ]
  },
  {
   "cell_type": "code",
   "execution_count": 16,
   "metadata": {},
   "outputs": [
    {
     "data": {
      "image/png": "[encoded data removed]",
      "text/plain": [
       "<Figure size 1000x500 with 1 Axes>"
      ]
     },
     "metadata": {},
     "output_type": "display_data"
    }
   ],
   "source": [
    "plt.figure(figsize=(10, 5))\n",
    "plt.plot(train_losses, label='Training Loss')\n",
    "plt.plot(val_losses, label='Validation Loss')\n",
    "plt.xlabel('Epochs')\n",
    "plt.ylabel('Loss')\n",
    "plt.title('Loss Curves')\n",
    "plt.legend()\n",
    "plt.show()"
   ]
  },
  {
   "cell_type": "code",
   "execution_count": null,
   "metadata": {},
   "outputs": [],
   "source": [
    "# Initialize lists to store true labels and predicted labels for the entire validation set\n",
    "true_labels = []\n",
    "predicted_labels = []\n",
    "\n",
    "# Validation phase\n",
    "model.eval()\n",
    "loss = 0.0\n",
    "with torch.no_grad():\n",
    "    for images_test, attributes_test in test_loader:\n",
    "        images_test, attributes_test = images_test.to(device), attributes_test.to(device)\n",
    "        test_outputs = model(images_test)\n",
    "        test_loss = criterion(test_outputs, attributes_test.float())\n",
    "        loss += test_loss.item()\n",
    "        \n",
    "        # Convert outputs to binary predictions using a threshold (e.g., 0.5)\n",
    "        predicted = test_outputs > 0.45\n",
    "        \n",
    "        # Convert tensors to numpy arrays\n",
    "        attributes_test_np = attributes_test.cpu().numpy()\n",
    "        predicted_np = predicted.cpu().numpy()\n",
    "        \n",
    "        # Append true labels and predicted labels to the lists\n",
    "        true_labels.extend(attributes_test_np)\n",
    "        predicted_labels.extend(predicted_np)\n",
    "\n",
    "loss /= len(test_loader)\n",
    "\n",
    "# Compute confusion matrix\n",
    "d = classification_report(true_labels, predicted_labels, target_names=attr_100_list, output_dict=True, zero_division=1)\n",
    "df_metrics = metrics_df(d)\n",
    "print(loss)"
   ]
  },
  {
   "cell_type": "code",
   "execution_count": null,
   "metadata": {},
   "outputs": [],
   "source": [
    "# Initialize lists to store true labels and predicted labels for the entire validation set\n",
    "true_labels = []\n",
    "predicted_labels = []\n",
    "\n",
    "# Validation phase\n",
    "model.eval()\n",
    "loss = 0.0\n",
    "with torch.no_grad():\n",
    "    for images_test, attributes_test in test_loader:\n",
    "        images_test, attributes_test = images_test.to(device), attributes_test.to(device)\n",
    "        test_outputs = model(images_test)\n",
    "        test_loss = criterion(test_outputs, attributes_test.float())\n",
    "        loss += test_loss.item()\n",
    "        \n",
    "        # Convert outputs to binary predictions using a threshold (e.g., 0.5)\n",
    "        predicted = test_outputs > 0.4\n",
    "        \n",
    "        # Convert tensors to numpy arrays\n",
    "        attributes_test_np = attributes_test.cpu().numpy()\n",
    "        predicted_np = predicted.cpu().numpy()\n",
    "        \n",
    "        # Append true labels and predicted labels to the lists\n",
    "        true_labels.extend(attributes_test_np)\n",
    "        predicted_labels.extend(predicted_np)\n",
    "\n",
    "loss /= len(test_loader)\n",
    "\n",
    "# Compute confusion matrix\n",
    "d = classification_report(true_labels, predicted_labels, target_names=attr_100_list, output_dict=True, zero_division=1)\n",
    "df_metrics = metrics_df(d)\n",
    "print(loss)"
   ]
  },
  {
   "cell_type": "code",
   "execution_count": null,
   "metadata": {},
   "outputs": [],
   "source": [
    "# Initialize lists to store true labels and predicted labels for the entire validation set\n",
    "true_labels = []\n",
    "predicted_labels = []\n",
    "\n",
    "# Validation phase\n",
    "model.eval()\n",
    "loss = 0.0\n",
    "with torch.no_grad():\n",
    "    for images_test, attributes_test in test_loader:\n",
    "        images_test, attributes_test = images_test.to(device), attributes_test.to(device)\n",
    "        test_outputs = model(images_test)\n",
    "        test_loss = criterion(test_outputs, attributes_test.float())\n",
    "        loss += test_loss.item()\n",
    "        \n",
    "        # Convert outputs to binary predictions using a threshold (e.g., 0.5)\n",
    "        predicted = test_outputs > 0.5\n",
    "        \n",
    "        # Convert tensors to numpy arrays\n",
    "        attributes_test_np = attributes_test.cpu().numpy()\n",
    "        predicted_np = predicted.cpu().numpy()\n",
    "        \n",
    "        # Append true labels and predicted labels to the lists\n",
    "        true_labels.extend(attributes_test_np)\n",
    "        predicted_labels.extend(predicted_np)\n",
    "\n",
    "loss /= len(test_loader)\n",
    "\n",
    "# Compute confusion matrix\n",
    "d = classification_report(true_labels, predicted_labels, target_names=attr_100_list, output_dict=True, zero_division=1)\n",
    "df_metrics = metrics_df(d)\n",
    "print(loss)"
   ]
  },
  {
   "cell_type": "code",
   "execution_count": null,
   "metadata": {},
   "outputs": [],
   "source": [
    "# Initialize lists to store true labels and predicted labels for the entire validation set\n",
    "true_labels = []\n",
    "predicted_labels = []\n",
    "\n",
    "# Validation phase\n",
    "model.eval()\n",
    "loss = 0.0\n",
    "with torch.no_grad():\n",
    "    for images_test, attributes_test in test_loader:\n",
    "        images_test, attributes_test = images_test.to(device), attributes_test.to(device)\n",
    "        test_outputs = model(images_test)\n",
    "        test_loss = criterion(test_outputs, attributes_test.float())\n",
    "        loss += test_loss.item()\n",
    "        \n",
    "        # Convert outputs to binary predictions using a threshold (e.g., 0.5)\n",
    "        predicted = test_outputs > 0.55\n",
    "        \n",
    "        # Convert tensors to numpy arrays\n",
    "        attributes_test_np = attributes_test.cpu().numpy()\n",
    "        predicted_np = predicted.cpu().numpy()\n",
    "        \n",
    "        # Append true labels and predicted labels to the lists\n",
    "        true_labels.extend(attributes_test_np)\n",
    "        predicted_labels.extend(predicted_np)\n",
    "\n",
    "loss /= len(test_loader)\n",
    "\n",
    "# Compute confusion matrix\n",
    "d = classification_report(true_labels, predicted_labels, target_names=attr_100_list, output_dict=True, zero_division=1)\n",
    "df_metrics = metrics_df(d)\n",
    "print(loss)"
   ]
  },
  {
   "cell_type": "code",
   "execution_count": null,
   "metadata": {},
   "outputs": [],
   "source": [
    "# Initialize lists to store true labels and predicted labels for the entire validation set\n",
    "true_labels = []\n",
    "predicted_labels = []\n",
    "\n",
    "# Validation phase\n",
    "model.eval()\n",
    "loss = 0.0\n",
    "with torch.no_grad():\n",
    "    for images_test, attributes_test in test_loader:\n",
    "        images_test, attributes_test = images_test.to(device), attributes_test.to(device)\n",
    "        test_outputs = model(images_test)\n",
    "        test_loss = criterion(test_outputs, attributes_test.float())\n",
    "        loss += test_loss.item()\n",
    "        \n",
    "        # Convert outputs to binary predictions using a threshold (e.g., 0.5)\n",
    "        predicted = test_outputs > 0.6\n",
    "        \n",
    "        # Convert tensors to numpy arrays\n",
    "        attributes_test_np = attributes_test.cpu().numpy()\n",
    "        predicted_np = predicted.cpu().numpy()\n",
    "        \n",
    "        # Append true labels and predicted labels to the lists\n",
    "        true_labels.extend(attributes_test_np)\n",
    "        predicted_labels.extend(predicted_np)\n",
    "\n",
    "loss /= len(test_loader)\n",
    "\n",
    "# Compute confusion matrix\n",
    "d = classification_report(true_labels, predicted_labels, target_names=attr_100_list, output_dict=True, zero_division=1)\n",
    "df_metrics = metrics_df(d)\n",
    "print(loss)"
   ]
  },
  {
   "cell_type": "code",
   "execution_count": null,
   "metadata": {},
   "outputs": [],
   "source": [
    "temp_model = SiameseModel(MODEL_NAME)\n",
    "temp_model.load_state_dict(torch.load(BASE_PATH + 'bce_model.pth'))"
   ]
  },
  {
   "cell_type": "code",
   "execution_count": null,
   "metadata": {},
   "outputs": [],
   "source": [
    "temp_model.to(device)"
   ]
  },
  {
   "cell_type": "code",
   "execution_count": null,
   "metadata": {},
   "outputs": [],
   "source": [
    "# Initialize lists to store true labels and predicted labels for the entire validation set\n",
    "true_labels = []\n",
    "predicted_labels = []\n",
    "\n",
    "# Validation phase\n",
    "temp_model.eval()\n",
    "loss = 0.0\n",
    "with torch.no_grad():\n",
    "    for images_test, attributes_test in test_loader:\n",
    "        images_test, attributes_test = images_test.to(device), attributes_test.to(device)\n",
    "        test_outputs = temp_model(images_test)\n",
    "        test_loss = criterion(test_outputs, attributes_test.float())\n",
    "        loss += test_loss.item()\n",
    "        \n",
    "        # Convert outputs to binary predictions using a threshold (e.g., 0.5)\n",
    "        predicted = test_outputs > 0.3\n",
    "        \n",
    "        # Convert tensors to numpy arrays\n",
    "        attributes_test_np = attributes_test.cpu().numpy()\n",
    "        predicted_np = predicted.cpu().numpy()\n",
    "        \n",
    "        # Append true labels and predicted labels to the lists\n",
    "        true_labels.extend(attributes_test_np)\n",
    "        predicted_labels.extend(predicted_np)\n",
    "\n",
    "loss /= len(test_loader)\n",
    "\n",
    "# Compute confusion matrix\n",
    "d = classification_report(true_labels, predicted_labels, target_names=attr_100_list, output_dict=True, zero_division=1)\n",
    "df_metrics = metrics_df(d)\n",
    "print(loss)"
   ]
  }
 ],
 "metadata": {
  "kernelspec": {
   "display_name": "Python 3",
   "language": "python",
   "name": "python3"
  },
  "language_info": {
   "codemirror_mode": {
    "name": "ipython",
    "version": 3
   },
   "file_extension": ".py",
   "mimetype": "text/x-python",
   "name": "python",
   "nbconvert_exporter": "python",
   "pygments_lexer": "ipython3",
   "version": "3.11.4"
  },
  "orig_nbformat": 4
 },
 "nbformat": 4,
 "nbformat_minor": 2
}
